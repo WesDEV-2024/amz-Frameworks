{
  "nbformat": 4,
  "nbformat_minor": 0,
  "metadata": {
    "colab": {
      "provenance": [],
      "include_colab_link": true
    },
    "language_info": {
      "name": "python"
    },
    "kernelspec": {
      "name": "python3",
      "display_name": "Python 3"
    },
    "widgets": {
      "application/vnd.jupyter.widget-state+json": {
        "7a9c6a12bf664930bbd31420d5678c87": {
          "model_module": "@jupyter-widgets/controls",
          "model_name": "VBoxModel",
          "model_module_version": "1.5.0",
          "state": {
            "_dom_classes": [
              "widget-interact"
            ],
            "_model_module": "@jupyter-widgets/controls",
            "_model_module_version": "1.5.0",
            "_model_name": "VBoxModel",
            "_view_count": null,
            "_view_module": "@jupyter-widgets/controls",
            "_view_module_version": "1.5.0",
            "_view_name": "VBoxView",
            "box_style": "",
            "children": [
              "IPY_MODEL_43b5c8dbd62e4dd9804b33067d2d967b",
              "IPY_MODEL_7e4a87883f2d4de19cf296432b208ed2"
            ],
            "layout": "IPY_MODEL_cc79bd2871fc47ad86c6bac57ae57da2"
          }
        },
        "43b5c8dbd62e4dd9804b33067d2d967b": {
          "model_module": "@jupyter-widgets/controls",
          "model_name": "IntSliderModel",
          "model_module_version": "1.5.0",
          "state": {
            "_dom_classes": [],
            "_model_module": "@jupyter-widgets/controls",
            "_model_module_version": "1.5.0",
            "_model_name": "IntSliderModel",
            "_view_count": null,
            "_view_module": "@jupyter-widgets/controls",
            "_view_module_version": "1.5.0",
            "_view_name": "IntSliderView",
            "continuous_update": true,
            "description": "x",
            "description_tooltip": null,
            "disabled": false,
            "layout": "IPY_MODEL_a0e1062b17ed40abba404c23e4df50a6",
            "max": 10,
            "min": -10,
            "orientation": "horizontal",
            "readout": true,
            "readout_format": "d",
            "step": 1,
            "style": "IPY_MODEL_824c7032dc6843618d9cdf6fee989d44",
            "value": -1
          }
        },
        "7e4a87883f2d4de19cf296432b208ed2": {
          "model_module": "@jupyter-widgets/output",
          "model_name": "OutputModel",
          "model_module_version": "1.0.0",
          "state": {
            "_dom_classes": [],
            "_model_module": "@jupyter-widgets/output",
            "_model_module_version": "1.0.0",
            "_model_name": "OutputModel",
            "_view_count": null,
            "_view_module": "@jupyter-widgets/output",
            "_view_module_version": "1.0.0",
            "_view_name": "OutputView",
            "layout": "IPY_MODEL_fb5797eb5d734895b35f40f74a371ec8",
            "msg_id": "",
            "outputs": [
              {
                "output_type": "display_data",
                "data": {
                  "text/plain": "-1"
                },
                "metadata": {}
              }
            ]
          }
        },
        "cc79bd2871fc47ad86c6bac57ae57da2": {
          "model_module": "@jupyter-widgets/base",
          "model_name": "LayoutModel",
          "model_module_version": "1.2.0",
          "state": {
            "_model_module": "@jupyter-widgets/base",
            "_model_module_version": "1.2.0",
            "_model_name": "LayoutModel",
            "_view_count": null,
            "_view_module": "@jupyter-widgets/base",
            "_view_module_version": "1.2.0",
            "_view_name": "LayoutView",
            "align_content": null,
            "align_items": null,
            "align_self": null,
            "border": null,
            "bottom": null,
            "display": null,
            "flex": null,
            "flex_flow": null,
            "grid_area": null,
            "grid_auto_columns": null,
            "grid_auto_flow": null,
            "grid_auto_rows": null,
            "grid_column": null,
            "grid_gap": null,
            "grid_row": null,
            "grid_template_areas": null,
            "grid_template_columns": null,
            "grid_template_rows": null,
            "height": null,
            "justify_content": null,
            "justify_items": null,
            "left": null,
            "margin": null,
            "max_height": null,
            "max_width": null,
            "min_height": null,
            "min_width": null,
            "object_fit": null,
            "object_position": null,
            "order": null,
            "overflow": null,
            "overflow_x": null,
            "overflow_y": null,
            "padding": null,
            "right": null,
            "top": null,
            "visibility": null,
            "width": null
          }
        },
        "a0e1062b17ed40abba404c23e4df50a6": {
          "model_module": "@jupyter-widgets/base",
          "model_name": "LayoutModel",
          "model_module_version": "1.2.0",
          "state": {
            "_model_module": "@jupyter-widgets/base",
            "_model_module_version": "1.2.0",
            "_model_name": "LayoutModel",
            "_view_count": null,
            "_view_module": "@jupyter-widgets/base",
            "_view_module_version": "1.2.0",
            "_view_name": "LayoutView",
            "align_content": null,
            "align_items": null,
            "align_self": null,
            "border": null,
            "bottom": null,
            "display": null,
            "flex": null,
            "flex_flow": null,
            "grid_area": null,
            "grid_auto_columns": null,
            "grid_auto_flow": null,
            "grid_auto_rows": null,
            "grid_column": null,
            "grid_gap": null,
            "grid_row": null,
            "grid_template_areas": null,
            "grid_template_columns": null,
            "grid_template_rows": null,
            "height": null,
            "justify_content": null,
            "justify_items": null,
            "left": null,
            "margin": null,
            "max_height": null,
            "max_width": null,
            "min_height": null,
            "min_width": null,
            "object_fit": null,
            "object_position": null,
            "order": null,
            "overflow": null,
            "overflow_x": null,
            "overflow_y": null,
            "padding": null,
            "right": null,
            "top": null,
            "visibility": null,
            "width": null
          }
        },
        "824c7032dc6843618d9cdf6fee989d44": {
          "model_module": "@jupyter-widgets/controls",
          "model_name": "SliderStyleModel",
          "model_module_version": "1.5.0",
          "state": {
            "_model_module": "@jupyter-widgets/controls",
            "_model_module_version": "1.5.0",
            "_model_name": "SliderStyleModel",
            "_view_count": null,
            "_view_module": "@jupyter-widgets/base",
            "_view_module_version": "1.2.0",
            "_view_name": "StyleView",
            "description_width": "",
            "handle_color": null
          }
        },
        "fb5797eb5d734895b35f40f74a371ec8": {
          "model_module": "@jupyter-widgets/base",
          "model_name": "LayoutModel",
          "model_module_version": "1.2.0",
          "state": {
            "_model_module": "@jupyter-widgets/base",
            "_model_module_version": "1.2.0",
            "_model_name": "LayoutModel",
            "_view_count": null,
            "_view_module": "@jupyter-widgets/base",
            "_view_module_version": "1.2.0",
            "_view_name": "LayoutView",
            "align_content": null,
            "align_items": null,
            "align_self": null,
            "border": null,
            "bottom": null,
            "display": null,
            "flex": null,
            "flex_flow": null,
            "grid_area": null,
            "grid_auto_columns": null,
            "grid_auto_flow": null,
            "grid_auto_rows": null,
            "grid_column": null,
            "grid_gap": null,
            "grid_row": null,
            "grid_template_areas": null,
            "grid_template_columns": null,
            "grid_template_rows": null,
            "height": null,
            "justify_content": null,
            "justify_items": null,
            "left": null,
            "margin": null,
            "max_height": null,
            "max_width": null,
            "min_height": null,
            "min_width": null,
            "object_fit": null,
            "object_position": null,
            "order": null,
            "overflow": null,
            "overflow_x": null,
            "overflow_y": null,
            "padding": null,
            "right": null,
            "top": null,
            "visibility": null,
            "width": null
          }
        },
        "8a0964ddc19d49cb99d75e1b47e7fd86": {
          "model_module": "@jupyter-widgets/controls",
          "model_name": "VBoxModel",
          "model_module_version": "1.5.0",
          "state": {
            "_dom_classes": [
              "widget-interact"
            ],
            "_model_module": "@jupyter-widgets/controls",
            "_model_module_version": "1.5.0",
            "_model_name": "VBoxModel",
            "_view_count": null,
            "_view_module": "@jupyter-widgets/controls",
            "_view_module_version": "1.5.0",
            "_view_name": "VBoxView",
            "box_style": "",
            "children": [
              "IPY_MODEL_226b3746a44f4bb6a891724e297b6822",
              "IPY_MODEL_6bf27740d2544877b4daeb807e5ba533"
            ],
            "layout": "IPY_MODEL_9f0cef2c0ad54016812b790c5a8102db"
          }
        },
        "226b3746a44f4bb6a891724e297b6822": {
          "model_module": "@jupyter-widgets/controls",
          "model_name": "IntSliderModel",
          "model_module_version": "1.5.0",
          "state": {
            "_dom_classes": [],
            "_model_module": "@jupyter-widgets/controls",
            "_model_module_version": "1.5.0",
            "_model_name": "IntSliderModel",
            "_view_count": null,
            "_view_module": "@jupyter-widgets/controls",
            "_view_module_version": "1.5.0",
            "_view_name": "IntSliderView",
            "continuous_update": true,
            "description": "x",
            "description_tooltip": null,
            "disabled": false,
            "layout": "IPY_MODEL_caf51a6e689e470b84f1873fee8fa41f",
            "max": 10,
            "min": -10,
            "orientation": "horizontal",
            "readout": true,
            "readout_format": "d",
            "step": 1,
            "style": "IPY_MODEL_c96e1a6ccf3e4efabeb9bc67fd931133",
            "value": 0
          }
        },
        "6bf27740d2544877b4daeb807e5ba533": {
          "model_module": "@jupyter-widgets/output",
          "model_name": "OutputModel",
          "model_module_version": "1.0.0",
          "state": {
            "_dom_classes": [],
            "_model_module": "@jupyter-widgets/output",
            "_model_module_version": "1.0.0",
            "_model_name": "OutputModel",
            "_view_count": null,
            "_view_module": "@jupyter-widgets/output",
            "_view_module_version": "1.0.0",
            "_view_name": "OutputView",
            "layout": "IPY_MODEL_ce5ba4e1338e4a27a13a7adab1005465",
            "msg_id": "",
            "outputs": [
              {
                "output_type": "display_data",
                "data": {
                  "text/plain": "0"
                },
                "metadata": {}
              }
            ]
          }
        },
        "9f0cef2c0ad54016812b790c5a8102db": {
          "model_module": "@jupyter-widgets/base",
          "model_name": "LayoutModel",
          "model_module_version": "1.2.0",
          "state": {
            "_model_module": "@jupyter-widgets/base",
            "_model_module_version": "1.2.0",
            "_model_name": "LayoutModel",
            "_view_count": null,
            "_view_module": "@jupyter-widgets/base",
            "_view_module_version": "1.2.0",
            "_view_name": "LayoutView",
            "align_content": null,
            "align_items": null,
            "align_self": null,
            "border": null,
            "bottom": null,
            "display": null,
            "flex": null,
            "flex_flow": null,
            "grid_area": null,
            "grid_auto_columns": null,
            "grid_auto_flow": null,
            "grid_auto_rows": null,
            "grid_column": null,
            "grid_gap": null,
            "grid_row": null,
            "grid_template_areas": null,
            "grid_template_columns": null,
            "grid_template_rows": null,
            "height": null,
            "justify_content": null,
            "justify_items": null,
            "left": null,
            "margin": null,
            "max_height": null,
            "max_width": null,
            "min_height": null,
            "min_width": null,
            "object_fit": null,
            "object_position": null,
            "order": null,
            "overflow": null,
            "overflow_x": null,
            "overflow_y": null,
            "padding": null,
            "right": null,
            "top": null,
            "visibility": null,
            "width": null
          }
        },
        "caf51a6e689e470b84f1873fee8fa41f": {
          "model_module": "@jupyter-widgets/base",
          "model_name": "LayoutModel",
          "model_module_version": "1.2.0",
          "state": {
            "_model_module": "@jupyter-widgets/base",
            "_model_module_version": "1.2.0",
            "_model_name": "LayoutModel",
            "_view_count": null,
            "_view_module": "@jupyter-widgets/base",
            "_view_module_version": "1.2.0",
            "_view_name": "LayoutView",
            "align_content": null,
            "align_items": null,
            "align_self": null,
            "border": null,
            "bottom": null,
            "display": null,
            "flex": null,
            "flex_flow": null,
            "grid_area": null,
            "grid_auto_columns": null,
            "grid_auto_flow": null,
            "grid_auto_rows": null,
            "grid_column": null,
            "grid_gap": null,
            "grid_row": null,
            "grid_template_areas": null,
            "grid_template_columns": null,
            "grid_template_rows": null,
            "height": null,
            "justify_content": null,
            "justify_items": null,
            "left": null,
            "margin": null,
            "max_height": null,
            "max_width": null,
            "min_height": null,
            "min_width": null,
            "object_fit": null,
            "object_position": null,
            "order": null,
            "overflow": null,
            "overflow_x": null,
            "overflow_y": null,
            "padding": null,
            "right": null,
            "top": null,
            "visibility": null,
            "width": null
          }
        },
        "c96e1a6ccf3e4efabeb9bc67fd931133": {
          "model_module": "@jupyter-widgets/controls",
          "model_name": "SliderStyleModel",
          "model_module_version": "1.5.0",
          "state": {
            "_model_module": "@jupyter-widgets/controls",
            "_model_module_version": "1.5.0",
            "_model_name": "SliderStyleModel",
            "_view_count": null,
            "_view_module": "@jupyter-widgets/base",
            "_view_module_version": "1.2.0",
            "_view_name": "StyleView",
            "description_width": "",
            "handle_color": null
          }
        },
        "ce5ba4e1338e4a27a13a7adab1005465": {
          "model_module": "@jupyter-widgets/base",
          "model_name": "LayoutModel",
          "model_module_version": "1.2.0",
          "state": {
            "_model_module": "@jupyter-widgets/base",
            "_model_module_version": "1.2.0",
            "_model_name": "LayoutModel",
            "_view_count": null,
            "_view_module": "@jupyter-widgets/base",
            "_view_module_version": "1.2.0",
            "_view_name": "LayoutView",
            "align_content": null,
            "align_items": null,
            "align_self": null,
            "border": null,
            "bottom": null,
            "display": null,
            "flex": null,
            "flex_flow": null,
            "grid_area": null,
            "grid_auto_columns": null,
            "grid_auto_flow": null,
            "grid_auto_rows": null,
            "grid_column": null,
            "grid_gap": null,
            "grid_row": null,
            "grid_template_areas": null,
            "grid_template_columns": null,
            "grid_template_rows": null,
            "height": null,
            "justify_content": null,
            "justify_items": null,
            "left": null,
            "margin": null,
            "max_height": null,
            "max_width": null,
            "min_height": null,
            "min_width": null,
            "object_fit": null,
            "object_position": null,
            "order": null,
            "overflow": null,
            "overflow_x": null,
            "overflow_y": null,
            "padding": null,
            "right": null,
            "top": null,
            "visibility": null,
            "width": null
          }
        }
      }
    }
  },
  "cells": [
    {
      "cell_type": "markdown",
      "metadata": {
        "id": "view-in-github",
        "colab_type": "text"
      },
      "source": [
        "<a href=\"https://colab.research.google.com/github/johnwesleyquintero/amz-frameworks/blob/main/Export_from_sheet_Gemini_Workspace.ipynb\" target=\"_parent\"><img src=\"https://colab.research.google.com/assets/colab-badge.svg\" alt=\"Open In Colab\"/></a>"
      ]
    },
    {
      "cell_type": "code",
      "metadata": {
        "colab": {
          "base_uri": "https://localhost:8080/",
          "height": 430
        },
        "id": "RPOReNnd2EJ_",
        "outputId": "96f9b85a-bffb-4152-bfa5-17b64e94f200"
      },
      "source": [
        "import gspread\n",
        "import pandas as pd\n",
        "from google.auth import default\n",
        "from google.colab import auth\n",
        "auth.authenticate_user()\n",
        "creds, _ = default()\n",
        "gc = gspread.authorize(creds)\n",
        "spreadsheet = gc.open_by_key('1VMhpj1zhftuDdVq8xIZYK01rT97B000sPPvdg4ew9Jc')\n",
        "worksheet = spreadsheet.get_worksheet(1)\n",
        "df = pd.DataFrame(worksheet.get())\n",
        "# Code for making the first row as header. Remove if not needed.\n",
        "df.columns = df.iloc[0]\n",
        "df = df.drop(0)\n",
        "df.head()"
      ],
      "execution_count": 7,
      "outputs": [
        {
          "output_type": "execute_result",
          "data": {
            "text/plain": [
              "0 Week    Month YearNumber       Query Rank ImpShare AdClk AdImp  AdSpend  \\\n",
              "1   42  October       2024  b00wr958ta    1   93.36%    33  4542   $72.68   \n",
              "2   42  October       2024  b00wr958ta    1   93.36%    32  8040   $45.84   \n",
              "3   42  October       2024  b00wr958ta    1   93.36%    22  8973   $32.87   \n",
              "4   42  October       2024  b00wr958ta    1   93.36%    14  3836   $32.44   \n",
              "5   42  October       2024  b00wr958ta    1   93.36%    71  9978  $149.10   \n",
              "\n",
              "0  AdCPC Orders    Sales  \n",
              "1  $2.20      1  $299.99  \n",
              "2  $1.43      1  $299.99  \n",
              "3  $1.49      1   $39.99  \n",
              "4  $2.32      2  $699.98  \n",
              "5  $2.10      8  $869.92  "
            ],
            "text/html": [
              "\n",
              "  <div id=\"df-ff689e5d-4843-4cca-84eb-748a3073fa5a\" class=\"colab-df-container\">\n",
              "    <div>\n",
              "<style scoped>\n",
              "    .dataframe tbody tr th:only-of-type {\n",
              "        vertical-align: middle;\n",
              "    }\n",
              "\n",
              "    .dataframe tbody tr th {\n",
              "        vertical-align: top;\n",
              "    }\n",
              "\n",
              "    .dataframe thead th {\n",
              "        text-align: right;\n",
              "    }\n",
              "</style>\n",
              "<table border=\"1\" class=\"dataframe\">\n",
              "  <thead>\n",
              "    <tr style=\"text-align: right;\">\n",
              "      <th></th>\n",
              "      <th>Week</th>\n",
              "      <th>Month</th>\n",
              "      <th>YearNumber</th>\n",
              "      <th>Query</th>\n",
              "      <th>Rank</th>\n",
              "      <th>ImpShare</th>\n",
              "      <th>AdClk</th>\n",
              "      <th>AdImp</th>\n",
              "      <th>AdSpend</th>\n",
              "      <th>AdCPC</th>\n",
              "      <th>Orders</th>\n",
              "      <th>Sales</th>\n",
              "    </tr>\n",
              "  </thead>\n",
              "  <tbody>\n",
              "    <tr>\n",
              "      <th>1</th>\n",
              "      <td>42</td>\n",
              "      <td>October</td>\n",
              "      <td>2024</td>\n",
              "      <td>b00wr958ta</td>\n",
              "      <td>1</td>\n",
              "      <td>93.36%</td>\n",
              "      <td>33</td>\n",
              "      <td>4542</td>\n",
              "      <td>$72.68</td>\n",
              "      <td>$2.20</td>\n",
              "      <td>1</td>\n",
              "      <td>$299.99</td>\n",
              "    </tr>\n",
              "    <tr>\n",
              "      <th>2</th>\n",
              "      <td>42</td>\n",
              "      <td>October</td>\n",
              "      <td>2024</td>\n",
              "      <td>b00wr958ta</td>\n",
              "      <td>1</td>\n",
              "      <td>93.36%</td>\n",
              "      <td>32</td>\n",
              "      <td>8040</td>\n",
              "      <td>$45.84</td>\n",
              "      <td>$1.43</td>\n",
              "      <td>1</td>\n",
              "      <td>$299.99</td>\n",
              "    </tr>\n",
              "    <tr>\n",
              "      <th>3</th>\n",
              "      <td>42</td>\n",
              "      <td>October</td>\n",
              "      <td>2024</td>\n",
              "      <td>b00wr958ta</td>\n",
              "      <td>1</td>\n",
              "      <td>93.36%</td>\n",
              "      <td>22</td>\n",
              "      <td>8973</td>\n",
              "      <td>$32.87</td>\n",
              "      <td>$1.49</td>\n",
              "      <td>1</td>\n",
              "      <td>$39.99</td>\n",
              "    </tr>\n",
              "    <tr>\n",
              "      <th>4</th>\n",
              "      <td>42</td>\n",
              "      <td>October</td>\n",
              "      <td>2024</td>\n",
              "      <td>b00wr958ta</td>\n",
              "      <td>1</td>\n",
              "      <td>93.36%</td>\n",
              "      <td>14</td>\n",
              "      <td>3836</td>\n",
              "      <td>$32.44</td>\n",
              "      <td>$2.32</td>\n",
              "      <td>2</td>\n",
              "      <td>$699.98</td>\n",
              "    </tr>\n",
              "    <tr>\n",
              "      <th>5</th>\n",
              "      <td>42</td>\n",
              "      <td>October</td>\n",
              "      <td>2024</td>\n",
              "      <td>b00wr958ta</td>\n",
              "      <td>1</td>\n",
              "      <td>93.36%</td>\n",
              "      <td>71</td>\n",
              "      <td>9978</td>\n",
              "      <td>$149.10</td>\n",
              "      <td>$2.10</td>\n",
              "      <td>8</td>\n",
              "      <td>$869.92</td>\n",
              "    </tr>\n",
              "  </tbody>\n",
              "</table>\n",
              "</div>\n",
              "    <div class=\"colab-df-buttons\">\n",
              "\n",
              "  <div class=\"colab-df-container\">\n",
              "    <button class=\"colab-df-convert\" onclick=\"convertToInteractive('df-ff689e5d-4843-4cca-84eb-748a3073fa5a')\"\n",
              "            title=\"Convert this dataframe to an interactive table.\"\n",
              "            style=\"display:none;\">\n",
              "\n",
              "  <svg xmlns=\"http://www.w3.org/2000/svg\" height=\"24px\" viewBox=\"0 -960 960 960\">\n",
              "    <path d=\"M120-120v-720h720v720H120Zm60-500h600v-160H180v160Zm220 220h160v-160H400v160Zm0 220h160v-160H400v160ZM180-400h160v-160H180v160Zm440 0h160v-160H620v160ZM180-180h160v-160H180v160Zm440 0h160v-160H620v160Z\"/>\n",
              "  </svg>\n",
              "    </button>\n",
              "\n",
              "  <style>\n",
              "    .colab-df-container {\n",
              "      display:flex;\n",
              "      gap: 12px;\n",
              "    }\n",
              "\n",
              "    .colab-df-convert {\n",
              "      background-color: #E8F0FE;\n",
              "      border: none;\n",
              "      border-radius: 50%;\n",
              "      cursor: pointer;\n",
              "      display: none;\n",
              "      fill: #1967D2;\n",
              "      height: 32px;\n",
              "      padding: 0 0 0 0;\n",
              "      width: 32px;\n",
              "    }\n",
              "\n",
              "    .colab-df-convert:hover {\n",
              "      background-color: #E2EBFA;\n",
              "      box-shadow: 0px 1px 2px rgba(60, 64, 67, 0.3), 0px 1px 3px 1px rgba(60, 64, 67, 0.15);\n",
              "      fill: #174EA6;\n",
              "    }\n",
              "\n",
              "    .colab-df-buttons div {\n",
              "      margin-bottom: 4px;\n",
              "    }\n",
              "\n",
              "    [theme=dark] .colab-df-convert {\n",
              "      background-color: #3B4455;\n",
              "      fill: #D2E3FC;\n",
              "    }\n",
              "\n",
              "    [theme=dark] .colab-df-convert:hover {\n",
              "      background-color: #434B5C;\n",
              "      box-shadow: 0px 1px 3px 1px rgba(0, 0, 0, 0.15);\n",
              "      filter: drop-shadow(0px 1px 2px rgba(0, 0, 0, 0.3));\n",
              "      fill: #FFFFFF;\n",
              "    }\n",
              "  </style>\n",
              "\n",
              "    <script>\n",
              "      const buttonEl =\n",
              "        document.querySelector('#df-ff689e5d-4843-4cca-84eb-748a3073fa5a button.colab-df-convert');\n",
              "      buttonEl.style.display =\n",
              "        google.colab.kernel.accessAllowed ? 'block' : 'none';\n",
              "\n",
              "      async function convertToInteractive(key) {\n",
              "        const element = document.querySelector('#df-ff689e5d-4843-4cca-84eb-748a3073fa5a');\n",
              "        const dataTable =\n",
              "          await google.colab.kernel.invokeFunction('convertToInteractive',\n",
              "                                                    [key], {});\n",
              "        if (!dataTable) return;\n",
              "\n",
              "        const docLinkHtml = 'Like what you see? Visit the ' +\n",
              "          '<a target=\"_blank\" href=https://colab.research.google.com/notebooks/data_table.ipynb>data table notebook</a>'\n",
              "          + ' to learn more about interactive tables.';\n",
              "        element.innerHTML = '';\n",
              "        dataTable['output_type'] = 'display_data';\n",
              "        await google.colab.output.renderOutput(dataTable, element);\n",
              "        const docLink = document.createElement('div');\n",
              "        docLink.innerHTML = docLinkHtml;\n",
              "        element.appendChild(docLink);\n",
              "      }\n",
              "    </script>\n",
              "  </div>\n",
              "\n",
              "\n",
              "<div id=\"df-74a22f8d-cfb9-44f3-9606-5a62296d1b0e\">\n",
              "  <button class=\"colab-df-quickchart\" onclick=\"quickchart('df-74a22f8d-cfb9-44f3-9606-5a62296d1b0e')\"\n",
              "            title=\"Suggest charts\"\n",
              "            style=\"display:none;\">\n",
              "\n",
              "<svg xmlns=\"http://www.w3.org/2000/svg\" height=\"24px\"viewBox=\"0 0 24 24\"\n",
              "     width=\"24px\">\n",
              "    <g>\n",
              "        <path d=\"M19 3H5c-1.1 0-2 .9-2 2v14c0 1.1.9 2 2 2h14c1.1 0 2-.9 2-2V5c0-1.1-.9-2-2-2zM9 17H7v-7h2v7zm4 0h-2V7h2v10zm4 0h-2v-4h2v4z\"/>\n",
              "    </g>\n",
              "</svg>\n",
              "  </button>\n",
              "\n",
              "<style>\n",
              "  .colab-df-quickchart {\n",
              "      --bg-color: #E8F0FE;\n",
              "      --fill-color: #1967D2;\n",
              "      --hover-bg-color: #E2EBFA;\n",
              "      --hover-fill-color: #174EA6;\n",
              "      --disabled-fill-color: #AAA;\n",
              "      --disabled-bg-color: #DDD;\n",
              "  }\n",
              "\n",
              "  [theme=dark] .colab-df-quickchart {\n",
              "      --bg-color: #3B4455;\n",
              "      --fill-color: #D2E3FC;\n",
              "      --hover-bg-color: #434B5C;\n",
              "      --hover-fill-color: #FFFFFF;\n",
              "      --disabled-bg-color: #3B4455;\n",
              "      --disabled-fill-color: #666;\n",
              "  }\n",
              "\n",
              "  .colab-df-quickchart {\n",
              "    background-color: var(--bg-color);\n",
              "    border: none;\n",
              "    border-radius: 50%;\n",
              "    cursor: pointer;\n",
              "    display: none;\n",
              "    fill: var(--fill-color);\n",
              "    height: 32px;\n",
              "    padding: 0;\n",
              "    width: 32px;\n",
              "  }\n",
              "\n",
              "  .colab-df-quickchart:hover {\n",
              "    background-color: var(--hover-bg-color);\n",
              "    box-shadow: 0 1px 2px rgba(60, 64, 67, 0.3), 0 1px 3px 1px rgba(60, 64, 67, 0.15);\n",
              "    fill: var(--button-hover-fill-color);\n",
              "  }\n",
              "\n",
              "  .colab-df-quickchart-complete:disabled,\n",
              "  .colab-df-quickchart-complete:disabled:hover {\n",
              "    background-color: var(--disabled-bg-color);\n",
              "    fill: var(--disabled-fill-color);\n",
              "    box-shadow: none;\n",
              "  }\n",
              "\n",
              "  .colab-df-spinner {\n",
              "    border: 2px solid var(--fill-color);\n",
              "    border-color: transparent;\n",
              "    border-bottom-color: var(--fill-color);\n",
              "    animation:\n",
              "      spin 1s steps(1) infinite;\n",
              "  }\n",
              "\n",
              "  @keyframes spin {\n",
              "    0% {\n",
              "      border-color: transparent;\n",
              "      border-bottom-color: var(--fill-color);\n",
              "      border-left-color: var(--fill-color);\n",
              "    }\n",
              "    20% {\n",
              "      border-color: transparent;\n",
              "      border-left-color: var(--fill-color);\n",
              "      border-top-color: var(--fill-color);\n",
              "    }\n",
              "    30% {\n",
              "      border-color: transparent;\n",
              "      border-left-color: var(--fill-color);\n",
              "      border-top-color: var(--fill-color);\n",
              "      border-right-color: var(--fill-color);\n",
              "    }\n",
              "    40% {\n",
              "      border-color: transparent;\n",
              "      border-right-color: var(--fill-color);\n",
              "      border-top-color: var(--fill-color);\n",
              "    }\n",
              "    60% {\n",
              "      border-color: transparent;\n",
              "      border-right-color: var(--fill-color);\n",
              "    }\n",
              "    80% {\n",
              "      border-color: transparent;\n",
              "      border-right-color: var(--fill-color);\n",
              "      border-bottom-color: var(--fill-color);\n",
              "    }\n",
              "    90% {\n",
              "      border-color: transparent;\n",
              "      border-bottom-color: var(--fill-color);\n",
              "    }\n",
              "  }\n",
              "</style>\n",
              "\n",
              "  <script>\n",
              "    async function quickchart(key) {\n",
              "      const quickchartButtonEl =\n",
              "        document.querySelector('#' + key + ' button');\n",
              "      quickchartButtonEl.disabled = true;  // To prevent multiple clicks.\n",
              "      quickchartButtonEl.classList.add('colab-df-spinner');\n",
              "      try {\n",
              "        const charts = await google.colab.kernel.invokeFunction(\n",
              "            'suggestCharts', [key], {});\n",
              "      } catch (error) {\n",
              "        console.error('Error during call to suggestCharts:', error);\n",
              "      }\n",
              "      quickchartButtonEl.classList.remove('colab-df-spinner');\n",
              "      quickchartButtonEl.classList.add('colab-df-quickchart-complete');\n",
              "    }\n",
              "    (() => {\n",
              "      let quickchartButtonEl =\n",
              "        document.querySelector('#df-74a22f8d-cfb9-44f3-9606-5a62296d1b0e button');\n",
              "      quickchartButtonEl.style.display =\n",
              "        google.colab.kernel.accessAllowed ? 'block' : 'none';\n",
              "    })();\n",
              "  </script>\n",
              "</div>\n",
              "\n",
              "    </div>\n",
              "  </div>\n"
            ],
            "application/vnd.google.colaboratory.intrinsic+json": {
              "type": "dataframe",
              "variable_name": "df",
              "repr_error": "0"
            }
          },
          "metadata": {},
          "execution_count": 7
        }
      ]
    },
    {
      "source": [
        "!pip install --upgrade google-api-python-client google-auth-httplib2 google-auth-oauthlib"
      ],
      "cell_type": "code",
      "metadata": {
        "colab": {
          "base_uri": "https://localhost:8080/"
        },
        "id": "7V4sA1vt5Cpe",
        "outputId": "f427803a-279e-4839-89d9-49ebc8451b97"
      },
      "execution_count": 8,
      "outputs": [
        {
          "output_type": "stream",
          "name": "stdout",
          "text": [
            "Requirement already satisfied: google-api-python-client in /usr/local/lib/python3.11/dist-packages (2.155.0)\n",
            "Collecting google-api-python-client\n",
            "  Downloading google_api_python_client-2.159.0-py2.py3-none-any.whl.metadata (6.7 kB)\n",
            "Requirement already satisfied: google-auth-httplib2 in /usr/local/lib/python3.11/dist-packages (0.2.0)\n",
            "Requirement already satisfied: google-auth-oauthlib in /usr/local/lib/python3.11/dist-packages (1.2.1)\n",
            "Requirement already satisfied: httplib2<1.dev0,>=0.19.0 in /usr/local/lib/python3.11/dist-packages (from google-api-python-client) (0.22.0)\n",
            "Requirement already satisfied: google-auth!=2.24.0,!=2.25.0,<3.0.0.dev0,>=1.32.0 in /usr/local/lib/python3.11/dist-packages (from google-api-python-client) (2.27.0)\n",
            "Requirement already satisfied: google-api-core!=2.0.*,!=2.1.*,!=2.2.*,!=2.3.0,<3.0.0.dev0,>=1.31.5 in /usr/local/lib/python3.11/dist-packages (from google-api-python-client) (2.19.2)\n",
            "Requirement already satisfied: uritemplate<5,>=3.0.1 in /usr/local/lib/python3.11/dist-packages (from google-api-python-client) (4.1.1)\n",
            "Requirement already satisfied: requests-oauthlib>=0.7.0 in /usr/local/lib/python3.11/dist-packages (from google-auth-oauthlib) (1.3.1)\n",
            "Requirement already satisfied: googleapis-common-protos<2.0.dev0,>=1.56.2 in /usr/local/lib/python3.11/dist-packages (from google-api-core!=2.0.*,!=2.1.*,!=2.2.*,!=2.3.0,<3.0.0.dev0,>=1.31.5->google-api-python-client) (1.66.0)\n",
            "Requirement already satisfied: protobuf!=3.20.0,!=3.20.1,!=4.21.0,!=4.21.1,!=4.21.2,!=4.21.3,!=4.21.4,!=4.21.5,<6.0.0.dev0,>=3.19.5 in /usr/local/lib/python3.11/dist-packages (from google-api-core!=2.0.*,!=2.1.*,!=2.2.*,!=2.3.0,<3.0.0.dev0,>=1.31.5->google-api-python-client) (4.25.5)\n",
            "Requirement already satisfied: proto-plus<2.0.0dev,>=1.22.3 in /usr/local/lib/python3.11/dist-packages (from google-api-core!=2.0.*,!=2.1.*,!=2.2.*,!=2.3.0,<3.0.0.dev0,>=1.31.5->google-api-python-client) (1.25.0)\n",
            "Requirement already satisfied: requests<3.0.0.dev0,>=2.18.0 in /usr/local/lib/python3.11/dist-packages (from google-api-core!=2.0.*,!=2.1.*,!=2.2.*,!=2.3.0,<3.0.0.dev0,>=1.31.5->google-api-python-client) (2.32.3)\n",
            "Requirement already satisfied: cachetools<6.0,>=2.0.0 in /usr/local/lib/python3.11/dist-packages (from google-auth!=2.24.0,!=2.25.0,<3.0.0.dev0,>=1.32.0->google-api-python-client) (5.5.0)\n",
            "Requirement already satisfied: pyasn1-modules>=0.2.1 in /usr/local/lib/python3.11/dist-packages (from google-auth!=2.24.0,!=2.25.0,<3.0.0.dev0,>=1.32.0->google-api-python-client) (0.4.1)\n",
            "Requirement already satisfied: rsa<5,>=3.1.4 in /usr/local/lib/python3.11/dist-packages (from google-auth!=2.24.0,!=2.25.0,<3.0.0.dev0,>=1.32.0->google-api-python-client) (4.9)\n",
            "Requirement already satisfied: pyparsing!=3.0.0,!=3.0.1,!=3.0.2,!=3.0.3,<4,>=2.4.2 in /usr/local/lib/python3.11/dist-packages (from httplib2<1.dev0,>=0.19.0->google-api-python-client) (3.2.1)\n",
            "Requirement already satisfied: oauthlib>=3.0.0 in /usr/local/lib/python3.11/dist-packages (from requests-oauthlib>=0.7.0->google-auth-oauthlib) (3.2.2)\n",
            "Requirement already satisfied: pyasn1<0.7.0,>=0.4.6 in /usr/local/lib/python3.11/dist-packages (from pyasn1-modules>=0.2.1->google-auth!=2.24.0,!=2.25.0,<3.0.0.dev0,>=1.32.0->google-api-python-client) (0.6.1)\n",
            "Requirement already satisfied: charset-normalizer<4,>=2 in /usr/local/lib/python3.11/dist-packages (from requests<3.0.0.dev0,>=2.18.0->google-api-core!=2.0.*,!=2.1.*,!=2.2.*,!=2.3.0,<3.0.0.dev0,>=1.31.5->google-api-python-client) (3.4.1)\n",
            "Requirement already satisfied: idna<4,>=2.5 in /usr/local/lib/python3.11/dist-packages (from requests<3.0.0.dev0,>=2.18.0->google-api-core!=2.0.*,!=2.1.*,!=2.2.*,!=2.3.0,<3.0.0.dev0,>=1.31.5->google-api-python-client) (3.10)\n",
            "Requirement already satisfied: urllib3<3,>=1.21.1 in /usr/local/lib/python3.11/dist-packages (from requests<3.0.0.dev0,>=2.18.0->google-api-core!=2.0.*,!=2.1.*,!=2.2.*,!=2.3.0,<3.0.0.dev0,>=1.31.5->google-api-python-client) (2.3.0)\n",
            "Requirement already satisfied: certifi>=2017.4.17 in /usr/local/lib/python3.11/dist-packages (from requests<3.0.0.dev0,>=2.18.0->google-api-core!=2.0.*,!=2.1.*,!=2.2.*,!=2.3.0,<3.0.0.dev0,>=1.31.5->google-api-python-client) (2024.12.14)\n",
            "Downloading google_api_python_client-2.159.0-py2.py3-none-any.whl (12.8 MB)\n",
            "\u001b[2K   \u001b[90m━━━━━━━━━━━━━━━━━━━━━━━━━━━━━━━━━━━━━━━━\u001b[0m \u001b[32m12.8/12.8 MB\u001b[0m \u001b[31m34.7 MB/s\u001b[0m eta \u001b[36m0:00:00\u001b[0m\n",
            "\u001b[?25hInstalling collected packages: google-api-python-client\n",
            "  Attempting uninstall: google-api-python-client\n",
            "    Found existing installation: google-api-python-client 2.155.0\n",
            "    Uninstalling google-api-python-client-2.155.0:\n",
            "      Successfully uninstalled google-api-python-client-2.155.0\n",
            "Successfully installed google-api-python-client-2.159.0\n"
          ]
        }
      ]
    },
    {
      "source": [
        "import gspread\n",
        "import pandas as pd\n",
        "from google.auth import default\n",
        "from google.colab import auth\n",
        "\n",
        "# Authenticate and open the spreadsheet\n",
        "auth.authenticate_user()\n",
        "creds, _ = default()\n",
        "gc = gspread.authorize(creds)\n",
        "spreadsheet = gc.open_by_key('1VMhpj1zhftuDdVq8xIZYK01rT97B000sPPvdg4ew9Jc')\n",
        "worksheet = spreadsheet.get_worksheet(1)\n",
        "\n",
        "# Read data into a DataFrame\n",
        "df = pd.DataFrame(worksheet.get_all_records())  # Using get_all_records for cleaner data\n",
        "\n",
        "# Convert the 'Sales' column to numeric, handling potential errors\n",
        "df['Sales'] = pd.to_numeric(df['Sales'], errors='coerce')  # 'coerce' replaces non-numeric values with NaN\n",
        "\n",
        "# Perform some data manipulation (e.g., calculate the sum of a column)\n",
        "total_sales = df['Sales'].sum()\n",
        "print(f\"Total Sales: {total_sales}\")\n",
        "\n",
        "# Write the total sales back to the spreadsheet\n",
        "worksheet.update('A1', [[total_sales]])  # Update the cell A1 with total sales, Change this cell as needed"
      ],
      "cell_type": "code",
      "metadata": {
        "colab": {
          "base_uri": "https://localhost:8080/"
        },
        "id": "PFNm1GLm56It",
        "outputId": "7e9737c1-54f2-45af-e4a8-1422fdcb180c"
      },
      "execution_count": 14,
      "outputs": [
        {
          "output_type": "stream",
          "name": "stdout",
          "text": [
            "Total Sales: 0.0\n"
          ]
        },
        {
          "output_type": "stream",
          "name": "stderr",
          "text": [
            "<ipython-input-14-67dd906c14b1>:24: DeprecationWarning: The order of arguments in worksheet.update() has changed. Please pass values first and range_name secondor used named arguments (range_name=, values=)\n",
            "  worksheet.update('A1', [[total_sales]])  # Update the cell A1 with total sales, Change this cell as needed\n"
          ]
        },
        {
          "output_type": "execute_result",
          "data": {
            "text/plain": [
              "{'spreadsheetId': '1VMhpj1zhftuDdVq8xIZYK01rT97B000sPPvdg4ew9Jc',\n",
              " 'updatedRange': 'A!A1',\n",
              " 'updatedRows': 1,\n",
              " 'updatedColumns': 1,\n",
              " 'updatedCells': 1}"
            ]
          },
          "metadata": {},
          "execution_count": 14
        }
      ]
    },
    {
      "source": [
        "import gspread\n",
        "import pandas as pd\n",
        "from google.auth import default\n",
        "from google.colab import auth"
      ],
      "cell_type": "code",
      "metadata": {
        "id": "OO0CbfR46N-w"
      },
      "execution_count": 16,
      "outputs": []
    },
    {
      "source": [
        "# Authenticate and open the spreadsheet\n",
        "auth.authenticate_user()\n",
        "creds, _ = default()\n",
        "gc = gspread.authorize(creds)\n",
        "spreadsheet = gc.open_by_key('1VMhpj1zhftuDdVq8xIZYK01rT97B000sPPvdg4ew9Jc')\n",
        "worksheet = spreadsheet.get_worksheet(1)"
      ],
      "cell_type": "code",
      "metadata": {
        "id": "V7do2d656PbI"
      },
      "execution_count": 17,
      "outputs": []
    },
    {
      "source": [
        "# Read data into a DataFrame\n",
        "df = pd.DataFrame(worksheet.get_all_records())  # Using get_all_records for cleaner data"
      ],
      "cell_type": "code",
      "metadata": {
        "id": "jTi-jOkZ6RD4"
      },
      "execution_count": 18,
      "outputs": []
    },
    {
      "source": [
        "# Convert the 'Sales' column to numeric, handling potential errors\n",
        "df['Sales'] = pd.to_numeric(df['Sales'], errors='coerce')  # 'coerce' replaces non-numeric values with NaN\n",
        "\n",
        "# Perform some data manipulation (e.g., calculate the sum of a column)\n",
        "total_sales = df['Sales'].sum()\n",
        "print(f\"Total Sales: {total_sales}\")"
      ],
      "cell_type": "code",
      "metadata": {
        "colab": {
          "base_uri": "https://localhost:8080/"
        },
        "id": "R-Rn5cxH6Unp",
        "outputId": "1babdc5a-7285-4ca7-d14b-229826347b13"
      },
      "execution_count": 20,
      "outputs": [
        {
          "output_type": "stream",
          "name": "stdout",
          "text": [
            "Total Sales: 0.0\n"
          ]
        }
      ]
    },
    {
      "source": [
        "# Convert the 'Sales' column to numeric, handling potential errors\n",
        "df['Sales'] = pd.to_numeric(df['Sales'], errors='coerce')  # 'coerce' replaces non-numeric values with NaN"
      ],
      "cell_type": "code",
      "metadata": {
        "id": "z3MCQKB96hCb"
      },
      "execution_count": 22,
      "outputs": []
    },
    {
      "source": [
        "# Perform some data manipulation (e.g., calculate the sum of a column)\n",
        "total_sales = df['Sales'].sum()\n",
        "print(f\"Total Sales: {total_sales}\")"
      ],
      "cell_type": "code",
      "metadata": {
        "colab": {
          "base_uri": "https://localhost:8080/"
        },
        "id": "0o29purY6i7C",
        "outputId": "abd8155c-822f-4f86-d039-71a789cbef34"
      },
      "execution_count": 23,
      "outputs": [
        {
          "output_type": "stream",
          "name": "stdout",
          "text": [
            "Total Sales: 0.0\n"
          ]
        }
      ]
    },
    {
      "source": [
        "# Write the total sales back to the spreadsheet\n",
        "worksheet.update('A1', [[total_sales]])  # Update the cell A1 with total sales, Change this cell as needed"
      ],
      "cell_type": "code",
      "metadata": {
        "colab": {
          "base_uri": "https://localhost:8080/"
        },
        "id": "ad6Q4ve-6ZE5",
        "outputId": "d7749b4e-e224-4a73-d637-eaf40bae7d9f"
      },
      "execution_count": 24,
      "outputs": [
        {
          "output_type": "stream",
          "name": "stderr",
          "text": [
            "<ipython-input-24-b6c5aa373dcf>:2: DeprecationWarning: The order of arguments in worksheet.update() has changed. Please pass values first and range_name secondor used named arguments (range_name=, values=)\n",
            "  worksheet.update('A1', [[total_sales]])  # Update the cell A1 with total sales, Change this cell as needed\n"
          ]
        },
        {
          "output_type": "execute_result",
          "data": {
            "text/plain": [
              "{'spreadsheetId': '1VMhpj1zhftuDdVq8xIZYK01rT97B000sPPvdg4ew9Jc',\n",
              " 'updatedRange': 'A!A1',\n",
              " 'updatedRows': 1,\n",
              " 'updatedColumns': 1,\n",
              " 'updatedCells': 1}"
            ]
          },
          "metadata": {},
          "execution_count": 24
        }
      ]
    },
    {
      "source": [
        "import pandas as pd\n",
        "\n",
        "# ... (your existing code) ...\n",
        "\n",
        "# Calculate average ad spend per order\n",
        "if 'AdSpend' in df.columns and 'Orders' in df.columns:\n",
        "    # Convert 'AdSpend' and 'Orders' to numeric, handling errors\n",
        "    df['AdSpend'] = pd.to_numeric(df['AdSpend'], errors='coerce')\n",
        "    df['Orders'] = pd.to_numeric(df['Orders'], errors='coerce')\n",
        "\n",
        "    # Now perform the calculation\n",
        "    average_ad_spend_per_order = df['AdSpend'].sum() / df['Orders'].sum()\n",
        "    print(f\"Average Ad Spend per Order: {average_ad_spend_per_order}\")\n",
        "else:\n",
        "    print(\"Warning: 'AdSpend' or 'Orders' column not found in DataFrame.\")\n",
        "\n",
        "# ... (rest of your code) ..."
      ],
      "cell_type": "code",
      "metadata": {
        "colab": {
          "base_uri": "https://localhost:8080/"
        },
        "id": "WWEIVXXs7_I_",
        "outputId": "d7e2b8d0-3b11-4c85-9218-28e5cc4c9c7a"
      },
      "execution_count": 35,
      "outputs": [
        {
          "output_type": "stream",
          "name": "stdout",
          "text": [
            "Average Ad Spend per Order: 0.0\n"
          ]
        }
      ]
    },
    {
      "source": [
        "# Print some statistics for 'AdSpend' and 'Orders'\n",
        "print(df[['AdSpend', 'Orders']].describe())\n",
        "\n",
        "# Check for NaN values in these columns\n",
        "print(\"\\nNumber of NaN values:\")\n",
        "print(df[['AdSpend', 'Orders']].isnull().sum())\n",
        "\n",
        "# View a sample of the data\n",
        "print(\"\\nSample data:\")\n",
        "print(df[['AdSpend', 'Orders']].sample(10))  # View 10 random rows"
      ],
      "cell_type": "code",
      "metadata": {
        "colab": {
          "base_uri": "https://localhost:8080/"
        },
        "id": "DqYab3io8LeJ",
        "outputId": "b65abff1-f3f3-4acf-c5f3-f6fcc2bd86dd"
      },
      "execution_count": 36,
      "outputs": [
        {
          "output_type": "stream",
          "name": "stdout",
          "text": [
            "       AdSpend        Orders\n",
            "count      0.0  53168.000000\n",
            "mean       NaN      0.187199\n",
            "std        NaN      0.931573\n",
            "min        NaN      0.000000\n",
            "25%        NaN      0.000000\n",
            "50%        NaN      0.000000\n",
            "75%        NaN      0.000000\n",
            "max        NaN     32.000000\n",
            "\n",
            "Number of NaN values:\n",
            "AdSpend    53168\n",
            "Orders         0\n",
            "dtype: int64\n",
            "\n",
            "Sample data:\n",
            "       AdSpend  Orders\n",
            "27991      NaN       0\n",
            "32198      NaN       0\n",
            "18338      NaN       0\n",
            "37825      NaN       0\n",
            "3710       NaN       0\n",
            "45611      NaN       0\n",
            "19638      NaN       0\n",
            "16231      NaN       0\n",
            "40653      NaN       0\n",
            "27229      NaN       0\n"
          ]
        }
      ]
    },
    {
      "source": [
        "import pandas as pd\n",
        "\n",
        "# ... (your existing code) ...\n",
        "\n",
        "if 'AdSpend' in df.columns and 'Orders' in df.columns:\n",
        "    # ... (conversion to numeric) ...\n",
        "\n",
        "    # Avoid division by zero\n",
        "    total_orders = df['Orders'].sum()\n",
        "    if total_orders != 0:\n",
        "        average_ad_spend_per_order = df['AdSpend'].sum() / total_orders\n",
        "        print(f\"Average Ad Spend per Order: {average_ad_spend_per_order}\")\n",
        "    else:\n",
        "        print(\"Warning: Total orders is 0. Cannot calculate average ad spend per order.\")\n",
        "else:\n",
        "    print(\"Warning: 'AdSpend' or 'Orders' column not found in DataFrame.\")\n",
        "\n",
        "# ... (rest of your code) ..."
      ],
      "cell_type": "code",
      "metadata": {
        "colab": {
          "base_uri": "https://localhost:8080/"
        },
        "id": "wW9GYaCo8N6S",
        "outputId": "415d0e3b-04d9-4669-8ec3-0401e34e8693"
      },
      "execution_count": 37,
      "outputs": [
        {
          "output_type": "stream",
          "name": "stdout",
          "text": [
            "Average Ad Spend per Order: 0.0\n"
          ]
        }
      ]
    },
    {
      "source": [
        "import gspread\n",
        "import pandas as pd\n",
        "from google.auth import default\n",
        "from google.colab import auth\n",
        "\n",
        "# ... (your authentication and spreadsheet opening code) ...\n",
        "\n",
        "# Get both worksheets\n",
        "worksheet1 = spreadsheet.get_worksheet(0)\n",
        "worksheet2 = spreadsheet.get_worksheet(1)\n",
        "import gspread\n",
        "import pandas as pd\n",
        "from google.auth import default\n",
        "from google.colab import auth\n",
        "\n",
        "# ... (your authentication and spreadsheet opening code) ...\n",
        "\n",
        "# Get both worksheets\n",
        "worksheet1 = spreadsheet.get_worksheet(0)\n",
        "worksheet2 = spreadsheet.get_worksheet(1)\n",
        "\n",
        "# Read data into DataFrames\n",
        "df1 = pd.DataFrame(worksheet1.get_all_records())"
      ],
      "cell_type": "code",
      "metadata": {
        "id": "Mx1pz2Lm8mKn"
      },
      "execution_count": 49,
      "outputs": []
    },
    {
      "source": [
        "import gspread\n",
        "import pandas as pd\n",
        "from google.auth import default\n",
        "from google.colab import auth"
      ],
      "cell_type": "code",
      "metadata": {
        "id": "mjquHey69EJp"
      },
      "execution_count": 50,
      "outputs": []
    },
    {
      "source": [
        "# ... (your authentication and spreadsheet opening code) ..."
      ],
      "cell_type": "code",
      "metadata": {
        "id": "YwdsWuVt9F-I"
      },
      "execution_count": 51,
      "outputs": []
    },
    {
      "source": [
        "# Get both worksheets\n",
        "worksheet1 = spreadsheet.get_worksheet(0)\n",
        "worksheet2 = spreadsheet.get_worksheet(1)"
      ],
      "cell_type": "code",
      "metadata": {
        "id": "D5w_cHBn9ISg"
      },
      "execution_count": 52,
      "outputs": []
    },
    {
      "source": [
        "# Read data into DataFrames\n",
        "df1 = pd.DataFrame(worksheet1.get_all_records())\n",
        "df2 = pd.DataFrame(worksheet2.get_all_records())"
      ],
      "cell_type": "code",
      "metadata": {
        "id": "Ex-YRh4f9OQ6"
      },
      "execution_count": 53,
      "outputs": []
    },
    {
      "source": [
        "# Print the columns of both DataFrames to identify the common column\n",
        "print(\"Columns in df1:\", df1.columns)\n",
        "print(\"Columns in df2:\", df2.columns)"
      ],
      "cell_type": "code",
      "metadata": {
        "colab": {
          "base_uri": "https://localhost:8080/"
        },
        "id": "hMT6Xed79Ts9",
        "outputId": "1cff6260-b8ee-4ef5-f2df-6bd1b95ba2b8"
      },
      "execution_count": 54,
      "outputs": [
        {
          "output_type": "stream",
          "name": "stdout",
          "text": [
            "Columns in df1: Index(['0', 'Month', 'YearNumber', 'Query', 'Rank', 'ImpShare', 'AdClk',\n",
            "       'AdImp', 'AdSpend', 'AdCPC', 'Orders', 'Sales'],\n",
            "      dtype='object')\n",
            "Columns in df2: Index(['Week', 'Month', 'YearNumber', 'ASIN', 'Query', 'QScore', 'QVolume',\n",
            "       'OrgImp', 'OrgClk', 'OrgPur', 'OrgPRate', 'OrgPrice'],\n",
            "      dtype='object')\n"
          ]
        }
      ]
    },
    {
      "source": [
        "import gspread\n",
        "import pandas as pd\n",
        "from google.auth import default\n",
        "from google.colab import auth\n",
        "\n",
        "# ... (your authentication and spreadsheet opening code) ...\n",
        "\n",
        "# Get both worksheets\n",
        "worksheet1 = spreadsheet.get_worksheet(0)\n",
        "worksheet2 = spreadsheet.get_worksheet(1)\n",
        "\n",
        "# Read data into DataFrames\n",
        "df1 = pd.DataFrame(worksheet1.get_all_records())\n",
        "df2 = pd.DataFrame(worksheet2.get_all_records())\n",
        "\n",
        "# Print the columns of both DataFrames to identify the common column\n",
        "print(\"Columns in df1:\", df1.columns)\n",
        "print(\"Columns in df2:\", df2.columns)\n",
        "\n",
        "# Merge the DataFrames based on the actual common column\n",
        "# Replace 'ActualCommonColumn' with the correct common column name from the printed output\n",
        "# For example, if 'Query' is the common column, use:\n",
        "merged_df = pd.merge(df1, df2, on='Query', how='left')\n",
        "# or if another column 'CommonColumn' is present in both df use that instead on on='CommonColumn'"
      ],
      "cell_type": "code",
      "metadata": {
        "colab": {
          "base_uri": "https://localhost:8080/"
        },
        "id": "BuUDjPPP9u3e",
        "outputId": "ffa0ae7f-f020-4356-82bf-ee286a041494"
      },
      "execution_count": 57,
      "outputs": [
        {
          "output_type": "stream",
          "name": "stdout",
          "text": [
            "Columns in df1: Index(['0', 'Month', 'YearNumber', 'Query', 'Rank', 'ImpShare', 'AdClk',\n",
            "       'AdImp', 'AdSpend', 'AdCPC', 'Orders', 'Sales'],\n",
            "      dtype='object')\n",
            "Columns in df2: Index(['Week', 'Month', 'YearNumber', 'ASIN', 'Query', 'QScore', 'QVolume',\n",
            "       'OrgImp', 'OrgClk', 'OrgPur', 'OrgPRate', 'OrgPrice'],\n",
            "      dtype='object')\n"
          ]
        }
      ]
    },
    {
      "source": [
        "# Assuming you have the 'AdSpend' and 'Orders' columns in merged_df\n",
        "\n",
        "# Convert 'AdSpend' and 'Orders' to numeric, handling errors\n",
        "filtered_df['AdSpend'] = pd.to_numeric(filtered_df['AdSpend'], errors='coerce')\n",
        "filtered_df['Orders'] = pd.to_numeric(filtered_df['Orders'], errors='coerce')\n",
        "\n",
        "# Filter out rows where Orders is 0\n",
        "filtered_df = filtered_df[filtered_df['Orders'] != 0]\n",
        "\n",
        "# Calculate average ad spend per order for the filtered data\n",
        "average_ad_spend_per_order = filtered_df['AdSpend'].sum() / filtered_df['Orders'].sum()\n",
        "print(f\"Average Ad Spend per Order: {average_ad_spend_per_order}\")"
      ],
      "cell_type": "code",
      "metadata": {
        "colab": {
          "base_uri": "https://localhost:8080/"
        },
        "id": "X6w0bQlP-Tx7",
        "outputId": "7bea7c37-63ce-4585-e109-bd3d47d61ad4"
      },
      "execution_count": 59,
      "outputs": [
        {
          "output_type": "stream",
          "name": "stdout",
          "text": [
            "Average Ad Spend per Order: 0.0\n"
          ]
        },
        {
          "output_type": "stream",
          "name": "stderr",
          "text": [
            "<ipython-input-59-dcbcb1ca7218>:4: SettingWithCopyWarning: \n",
            "A value is trying to be set on a copy of a slice from a DataFrame.\n",
            "Try using .loc[row_indexer,col_indexer] = value instead\n",
            "\n",
            "See the caveats in the documentation: https://pandas.pydata.org/pandas-docs/stable/user_guide/indexing.html#returning-a-view-versus-a-copy\n",
            "  filtered_df['AdSpend'] = pd.to_numeric(filtered_df['AdSpend'], errors='coerce')\n",
            "<ipython-input-59-dcbcb1ca7218>:5: SettingWithCopyWarning: \n",
            "A value is trying to be set on a copy of a slice from a DataFrame.\n",
            "Try using .loc[row_indexer,col_indexer] = value instead\n",
            "\n",
            "See the caveats in the documentation: https://pandas.pydata.org/pandas-docs/stable/user_guide/indexing.html#returning-a-view-versus-a-copy\n",
            "  filtered_df['Orders'] = pd.to_numeric(filtered_df['Orders'], errors='coerce')\n"
          ]
        }
      ]
    },
    {
      "source": [
        "# Assuming you have the 'AdSpend' and 'Orders' columns in merged_df\n",
        "\n",
        "# Convert 'AdSpend' and 'Orders' to numeric, handling errors using .loc\n",
        "merged_df.loc[:, 'AdSpend'] = pd.to_numeric(merged_df['AdSpend'], errors='coerce')\n",
        "merged_df.loc[:, 'Orders'] = pd.to_numeric(merged_df['Orders'], errors='coerce')\n",
        "\n",
        "# Filter out rows where Orders is 0\n",
        "filtered_df = merged_df[merged_df['Orders'] != 0]\n",
        "\n",
        "# Calculate average ad spend per order for the filtered data\n",
        "average_ad_spend_per_order = filtered_df['AdSpend'].sum() / filtered_df['Orders'].sum()\n",
        "print(f\"Average Ad Spend per Order: {average_ad_spend_per_order}\")\n",
        "\n",
        "# Check data types to ensure conversion was successful\n",
        "print(\"Data types after conversion:\")\n",
        "print(merged_df[['AdSpend', 'Orders']].dtypes)\n",
        "\n",
        "# Check for invalid values that might have been converted to NaN\n",
        "print(\"\\nNumber of NaN values after conversion:\")\n",
        "print(merged_df[['AdSpend', 'Orders']].isnull().sum())\n",
        "\n",
        "# Optionally, print a sample of the converted data to visually inspect\n",
        "print(\"\\nSample data after conversion:\")\n",
        "print(merged_df[['AdSpend', 'Orders']].sample(10))"
      ],
      "cell_type": "code",
      "metadata": {
        "colab": {
          "base_uri": "https://localhost:8080/"
        },
        "id": "0LD2nxHl-j1t",
        "outputId": "51b66acd-5500-4394-f44a-0cbb08ee666c"
      },
      "execution_count": 60,
      "outputs": [
        {
          "output_type": "stream",
          "name": "stdout",
          "text": [
            "Average Ad Spend per Order: 0.0\n",
            "Data types after conversion:\n",
            "AdSpend    object\n",
            "Orders      int64\n",
            "dtype: object\n",
            "\n",
            "Number of NaN values after conversion:\n",
            "AdSpend    824605\n",
            "Orders          0\n",
            "dtype: int64\n",
            "\n",
            "Sample data after conversion:\n",
            "       AdSpend  Orders\n",
            "663962     NaN       0\n",
            "185082     NaN       0\n",
            "177185     NaN       0\n",
            "782492     NaN       0\n",
            "552169     NaN       7\n",
            "181096     NaN       0\n",
            "524973     NaN       0\n",
            "263291     NaN       0\n",
            "430779     NaN       0\n",
            "63344      NaN       0\n"
          ]
        }
      ]
    },
    {
      "source": [
        "import gspread\n",
        "import pandas as pd\n",
        "from google.auth import default\n",
        "from google.colab import auth\n",
        "\n",
        "# ... (your authentication and spreadsheet opening code) ...\n",
        "\n",
        "# Get both worksheets\n",
        "worksheet1 = spreadsheet.get_worksheet(0)\n",
        "worksheet2 = spreadsheet.get_worksheet(1)\n",
        "\n",
        "# Read data into DataFrames\n",
        "df1 = pd.DataFrame(worksheet1.get_all_records())\n",
        "df2 = pd.DataFrame(worksheet2.get_all_records())\n",
        "\n",
        "# Check data types BEFORE conversion\n",
        "print(\"Original data types in df1:\")\n",
        "print(df1[['AdSpend']].dtypes)  # Assuming 'AdSpend' is in df1\n",
        "\n",
        "# Inspect some values in the 'AdSpend' column of df1\n",
        "print(\"\\nSample 'AdSpend' values in df1:\")\n",
        "print(df1['AdSpend'].head(10))  # Print the first 10 values\n",
        "\n",
        "# ... (your merging and other code) ..."
      ],
      "cell_type": "code",
      "metadata": {
        "colab": {
          "base_uri": "https://localhost:8080/"
        },
        "id": "h8cY-3ko-vVf",
        "outputId": "3b3bd852-428a-4b9a-9466-45a9cde7d018"
      },
      "execution_count": 61,
      "outputs": [
        {
          "output_type": "stream",
          "name": "stdout",
          "text": [
            "Original data types in df1:\n",
            "AdSpend    object\n",
            "dtype: object\n",
            "\n",
            "Sample 'AdSpend' values in df1:\n",
            "0     $72.68\n",
            "1     $45.84\n",
            "2     $32.87\n",
            "3     $32.44\n",
            "4    $149.10\n",
            "5      $1.44\n",
            "6      $3.77\n",
            "7      $1.42\n",
            "8     $46.26\n",
            "9      $1.44\n",
            "Name: AdSpend, dtype: object\n"
          ]
        }
      ]
    },
    {
      "source": [
        "# Check data types BEFORE conversion\n",
        "print(\"Original data types in df1:\")\n",
        "print(df1[['AdSpend']].dtypes)  # Assuming 'AdSpend' is in df1\n",
        "\n",
        "# Inspect some values in the 'AdSpend' column of df1\n",
        "print(\"\\nSample 'AdSpend' values in df1:\")\n",
        "print(df1['AdSpend'].head(10))  # Print the first 10 values"
      ],
      "cell_type": "code",
      "metadata": {
        "colab": {
          "base_uri": "https://localhost:8080/"
        },
        "id": "54G_8x-m-95y",
        "outputId": "2706d1e3-6bec-4158-cc51-fb68137ea189"
      },
      "execution_count": 62,
      "outputs": [
        {
          "output_type": "stream",
          "name": "stdout",
          "text": [
            "Original data types in df1:\n",
            "AdSpend    object\n",
            "dtype: object\n",
            "\n",
            "Sample 'AdSpend' values in df1:\n",
            "0     $72.68\n",
            "1     $45.84\n",
            "2     $32.87\n",
            "3     $32.44\n",
            "4    $149.10\n",
            "5      $1.44\n",
            "6      $3.77\n",
            "7      $1.42\n",
            "8     $46.26\n",
            "9      $1.44\n",
            "Name: AdSpend, dtype: object\n"
          ]
        }
      ]
    },
    {
      "source": [
        "# ... (your merging and other code) ..."
      ],
      "cell_type": "code",
      "metadata": {
        "id": "W63ri4m8-_iy"
      },
      "execution_count": 63,
      "outputs": []
    },
    {
      "source": [
        "merged_df['ACoS'] = (merged_df['AdSpend'] / merged_df['Sales']) * 100"
      ],
      "cell_type": "code",
      "metadata": {
        "id": "oik0A-sm_pBI"
      },
      "execution_count": 65,
      "outputs": []
    },
    {
      "source": [
        "merged_df['ROAS'] = merged_df['Sales'] / merged_df['AdSpend']"
      ],
      "cell_type": "code",
      "metadata": {
        "id": "ZMq_DOs9_riW"
      },
      "execution_count": 66,
      "outputs": []
    },
    {
      "source": [
        "# Print the columns of the merged DataFrame to see if 'Clicks' is present\n",
        "print(merged_df.columns)\n",
        "\n",
        "# If 'Clicks' is not present, check the original DataFrames (df1 and df2)\n",
        "print(df1.columns)\n",
        "print(df2.columns)\n",
        "\n",
        "# If 'Clicks' is present in one of the original DataFrames but with a different name\n",
        "# (e.g., 'clicks' instead of 'Clicks'), rename it before merging:\n",
        "# df1 = df1.rename(columns={'clicks': 'Clicks'})  # Replace 'clicks' with the actual column name\n",
        "\n",
        "# After ensuring 'Clicks'"
      ],
      "cell_type": "code",
      "metadata": {
        "colab": {
          "base_uri": "https://localhost:8080/"
        },
        "id": "B5sljNc-_yBn",
        "outputId": "bb093dc0-2721-414d-b859-26f2587d06c3"
      },
      "execution_count": 68,
      "outputs": [
        {
          "output_type": "stream",
          "name": "stdout",
          "text": [
            "Index(['0', 'Month_x', 'YearNumber_x', 'Query', 'Rank', 'ImpShare', 'AdClk',\n",
            "       'AdImp', 'AdSpend', 'AdCPC', 'Orders', 'Sales', 'Week', 'Month_y',\n",
            "       'YearNumber_y', 'ASIN', 'QScore', 'QVolume', 'OrgImp', 'OrgClk',\n",
            "       'OrgPur', 'OrgPRate', 'OrgPrice', 'ACoS', 'ROAS'],\n",
            "      dtype='object')\n",
            "Index(['0', 'Month', 'YearNumber', 'Query', 'Rank', 'ImpShare', 'AdClk',\n",
            "       'AdImp', 'AdSpend', 'AdCPC', 'Orders', 'Sales'],\n",
            "      dtype='object')\n",
            "Index(['Week', 'Month', 'YearNumber', 'ASIN', 'Query', 'QScore', 'QVolume',\n",
            "       'OrgImp', 'OrgClk', 'OrgPur', 'OrgPRate', 'OrgPrice'],\n",
            "      dtype='object')\n"
          ]
        }
      ]
    },
    {
      "source": [
        "# Assuming 'AdClk' represents 'Clicks' and 'AdImp' represents 'Impressions'\n",
        "merged_df['CTR'] = (merged_df['AdClk'] / merged_df['AdImp']) * 100"
      ],
      "cell_type": "code",
      "metadata": {
        "id": "h-yGC-hN_6zw"
      },
      "execution_count": 70,
      "outputs": []
    },
    {
      "source": [
        "!pip install ipywidgets\n",
        "from ipywidgets import interact, interactive, fixed, interact_manual\n",
        "import ipywidgets as widgets\n",
        "\n",
        "# Example function to demonstrate interaction\n",
        "def f(x):\n",
        "    return x\n",
        "\n",
        "# Create an interactive slider\n",
        "interact(f, x=widgets.IntSlider(min=-10, max=10, step=1, value=0))"
      ],
      "cell_type": "code",
      "metadata": {
        "colab": {
          "base_uri": "https://localhost:8080/",
          "height": 1000,
          "referenced_widgets": [
            "7a9c6a12bf664930bbd31420d5678c87",
            "43b5c8dbd62e4dd9804b33067d2d967b",
            "7e4a87883f2d4de19cf296432b208ed2",
            "cc79bd2871fc47ad86c6bac57ae57da2",
            "a0e1062b17ed40abba404c23e4df50a6",
            "824c7032dc6843618d9cdf6fee989d44",
            "fb5797eb5d734895b35f40f74a371ec8"
          ]
        },
        "collapsed": true,
        "id": "Nd0pZXF5AP0D",
        "outputId": "bdfe75f6-0d90-4bfe-8bfb-6b3c634ebda1"
      },
      "execution_count": 73,
      "outputs": [
        {
          "output_type": "stream",
          "name": "stdout",
          "text": [
            "Requirement already satisfied: ipywidgets in /usr/local/lib/python3.11/dist-packages (7.7.1)\n",
            "Requirement already satisfied: ipykernel>=4.5.1 in /usr/local/lib/python3.11/dist-packages (from ipywidgets) (5.5.6)\n",
            "Requirement already satisfied: ipython-genutils~=0.2.0 in /usr/local/lib/python3.11/dist-packages (from ipywidgets) (0.2.0)\n",
            "Requirement already satisfied: traitlets>=4.3.1 in /usr/local/lib/python3.11/dist-packages (from ipywidgets) (5.7.1)\n",
            "Requirement already satisfied: widgetsnbextension~=3.6.0 in /usr/local/lib/python3.11/dist-packages (from ipywidgets) (3.6.10)\n",
            "Requirement already satisfied: ipython>=4.0.0 in /usr/local/lib/python3.11/dist-packages (from ipywidgets) (7.34.0)\n",
            "Requirement already satisfied: jupyterlab-widgets>=1.0.0 in /usr/local/lib/python3.11/dist-packages (from ipywidgets) (3.0.13)\n",
            "Requirement already satisfied: jupyter-client in /usr/local/lib/python3.11/dist-packages (from ipykernel>=4.5.1->ipywidgets) (6.1.12)\n",
            "Requirement already satisfied: tornado>=4.2 in /usr/local/lib/python3.11/dist-packages (from ipykernel>=4.5.1->ipywidgets) (6.3.3)\n",
            "Requirement already satisfied: setuptools>=18.5 in /usr/local/lib/python3.11/dist-packages (from ipython>=4.0.0->ipywidgets) (75.1.0)\n",
            "Collecting jedi>=0.16 (from ipython>=4.0.0->ipywidgets)\n",
            "  Downloading jedi-0.19.2-py2.py3-none-any.whl.metadata (22 kB)\n",
            "Requirement already satisfied: decorator in /usr/local/lib/python3.11/dist-packages (from ipython>=4.0.0->ipywidgets) (4.4.2)\n",
            "Requirement already satisfied: pickleshare in /usr/local/lib/python3.11/dist-packages (from ipython>=4.0.0->ipywidgets) (0.7.5)\n",
            "Requirement already satisfied: prompt-toolkit!=3.0.0,!=3.0.1,<3.1.0,>=2.0.0 in /usr/local/lib/python3.11/dist-packages (from ipython>=4.0.0->ipywidgets) (3.0.48)\n",
            "Requirement already satisfied: pygments in /usr/local/lib/python3.11/dist-packages (from ipython>=4.0.0->ipywidgets) (2.18.0)\n",
            "Requirement already satisfied: backcall in /usr/local/lib/python3.11/dist-packages (from ipython>=4.0.0->ipywidgets) (0.2.0)\n",
            "Requirement already satisfied: matplotlib-inline in /usr/local/lib/python3.11/dist-packages (from ipython>=4.0.0->ipywidgets) (0.1.7)\n",
            "Requirement already satisfied: pexpect>4.3 in /usr/local/lib/python3.11/dist-packages (from ipython>=4.0.0->ipywidgets) (4.9.0)\n",
            "Requirement already satisfied: notebook>=4.4.1 in /usr/local/lib/python3.11/dist-packages (from widgetsnbextension~=3.6.0->ipywidgets) (6.5.5)\n",
            "Requirement already satisfied: parso<0.9.0,>=0.8.4 in /usr/local/lib/python3.11/dist-packages (from jedi>=0.16->ipython>=4.0.0->ipywidgets) (0.8.4)\n",
            "Requirement already satisfied: jinja2 in /usr/local/lib/python3.11/dist-packages (from notebook>=4.4.1->widgetsnbextension~=3.6.0->ipywidgets) (3.1.5)\n",
            "Requirement already satisfied: pyzmq<25,>=17 in /usr/local/lib/python3.11/dist-packages (from notebook>=4.4.1->widgetsnbextension~=3.6.0->ipywidgets) (24.0.1)\n",
            "Requirement already satisfied: argon2-cffi in /usr/local/lib/python3.11/dist-packages (from notebook>=4.4.1->widgetsnbextension~=3.6.0->ipywidgets) (23.1.0)\n",
            "Requirement already satisfied: jupyter-core>=4.6.1 in /usr/local/lib/python3.11/dist-packages (from notebook>=4.4.1->widgetsnbextension~=3.6.0->ipywidgets) (5.7.2)\n",
            "Requirement already satisfied: nbformat in /usr/local/lib/python3.11/dist-packages (from notebook>=4.4.1->widgetsnbextension~=3.6.0->ipywidgets) (5.10.4)\n",
            "Requirement already satisfied: nbconvert>=5 in /usr/local/lib/python3.11/dist-packages (from notebook>=4.4.1->widgetsnbextension~=3.6.0->ipywidgets) (7.16.5)\n",
            "Requirement already satisfied: nest-asyncio>=1.5 in /usr/local/lib/python3.11/dist-packages (from notebook>=4.4.1->widgetsnbextension~=3.6.0->ipywidgets) (1.6.0)\n",
            "Requirement already satisfied: Send2Trash>=1.8.0 in /usr/local/lib/python3.11/dist-packages (from notebook>=4.4.1->widgetsnbextension~=3.6.0->ipywidgets) (1.8.3)\n",
            "Requirement already satisfied: terminado>=0.8.3 in /usr/local/lib/python3.11/dist-packages (from notebook>=4.4.1->widgetsnbextension~=3.6.0->ipywidgets) (0.18.1)\n",
            "Requirement already satisfied: prometheus-client in /usr/local/lib/python3.11/dist-packages (from notebook>=4.4.1->widgetsnbextension~=3.6.0->ipywidgets) (0.21.1)\n",
            "Requirement already satisfied: nbclassic>=0.4.7 in /usr/local/lib/python3.11/dist-packages (from notebook>=4.4.1->widgetsnbextension~=3.6.0->ipywidgets) (1.1.0)\n",
            "Requirement already satisfied: python-dateutil>=2.1 in /usr/local/lib/python3.11/dist-packages (from jupyter-client->ipykernel>=4.5.1->ipywidgets) (2.8.2)\n",
            "Requirement already satisfied: ptyprocess>=0.5 in /usr/local/lib/python3.11/dist-packages (from pexpect>4.3->ipython>=4.0.0->ipywidgets) (0.7.0)\n",
            "Requirement already satisfied: wcwidth in /usr/local/lib/python3.11/dist-packages (from prompt-toolkit!=3.0.0,!=3.0.1,<3.1.0,>=2.0.0->ipython>=4.0.0->ipywidgets) (0.2.13)\n",
            "Requirement already satisfied: platformdirs>=2.5 in /usr/local/lib/python3.11/dist-packages (from jupyter-core>=4.6.1->notebook>=4.4.1->widgetsnbextension~=3.6.0->ipywidgets) (4.3.6)\n",
            "Requirement already satisfied: notebook-shim>=0.2.3 in /usr/local/lib/python3.11/dist-packages (from nbclassic>=0.4.7->notebook>=4.4.1->widgetsnbextension~=3.6.0->ipywidgets) (0.2.4)\n",
            "Requirement already satisfied: beautifulsoup4 in /usr/local/lib/python3.11/dist-packages (from nbconvert>=5->notebook>=4.4.1->widgetsnbextension~=3.6.0->ipywidgets) (4.12.3)\n",
            "Requirement already satisfied: bleach!=5.0.0 in /usr/local/lib/python3.11/dist-packages (from bleach[css]!=5.0.0->nbconvert>=5->notebook>=4.4.1->widgetsnbextension~=3.6.0->ipywidgets) (6.2.0)\n",
            "Requirement already satisfied: defusedxml in /usr/local/lib/python3.11/dist-packages (from nbconvert>=5->notebook>=4.4.1->widgetsnbextension~=3.6.0->ipywidgets) (0.7.1)\n",
            "Requirement already satisfied: jupyterlab-pygments in /usr/local/lib/python3.11/dist-packages (from nbconvert>=5->notebook>=4.4.1->widgetsnbextension~=3.6.0->ipywidgets) (0.3.0)\n",
            "Requirement already satisfied: markupsafe>=2.0 in /usr/local/lib/python3.11/dist-packages (from nbconvert>=5->notebook>=4.4.1->widgetsnbextension~=3.6.0->ipywidgets) (3.0.2)\n",
            "Requirement already satisfied: mistune<4,>=2.0.3 in /usr/local/lib/python3.11/dist-packages (from nbconvert>=5->notebook>=4.4.1->widgetsnbextension~=3.6.0->ipywidgets) (3.1.0)\n",
            "Requirement already satisfied: nbclient>=0.5.0 in /usr/local/lib/python3.11/dist-packages (from nbconvert>=5->notebook>=4.4.1->widgetsnbextension~=3.6.0->ipywidgets) (0.10.2)\n",
            "Requirement already satisfied: packaging in /usr/local/lib/python3.11/dist-packages (from nbconvert>=5->notebook>=4.4.1->widgetsnbextension~=3.6.0->ipywidgets) (24.2)\n",
            "Requirement already satisfied: pandocfilters>=1.4.1 in /usr/local/lib/python3.11/dist-packages (from nbconvert>=5->notebook>=4.4.1->widgetsnbextension~=3.6.0->ipywidgets) (1.5.1)\n",
            "Requirement already satisfied: fastjsonschema>=2.15 in /usr/local/lib/python3.11/dist-packages (from nbformat->notebook>=4.4.1->widgetsnbextension~=3.6.0->ipywidgets) (2.21.1)\n",
            "Requirement already satisfied: jsonschema>=2.6 in /usr/local/lib/python3.11/dist-packages (from nbformat->notebook>=4.4.1->widgetsnbextension~=3.6.0->ipywidgets) (4.23.0)\n",
            "Requirement already satisfied: six>=1.5 in /usr/local/lib/python3.11/dist-packages (from python-dateutil>=2.1->jupyter-client->ipykernel>=4.5.1->ipywidgets) (1.17.0)\n",
            "Requirement already satisfied: argon2-cffi-bindings in /usr/local/lib/python3.11/dist-packages (from argon2-cffi->notebook>=4.4.1->widgetsnbextension~=3.6.0->ipywidgets) (21.2.0)\n",
            "Requirement already satisfied: webencodings in /usr/local/lib/python3.11/dist-packages (from bleach!=5.0.0->bleach[css]!=5.0.0->nbconvert>=5->notebook>=4.4.1->widgetsnbextension~=3.6.0->ipywidgets) (0.5.1)\n",
            "Requirement already satisfied: tinycss2<1.5,>=1.1.0 in /usr/local/lib/python3.11/dist-packages (from bleach[css]!=5.0.0->nbconvert>=5->notebook>=4.4.1->widgetsnbextension~=3.6.0->ipywidgets) (1.4.0)\n",
            "Requirement already satisfied: attrs>=22.2.0 in /usr/local/lib/python3.11/dist-packages (from jsonschema>=2.6->nbformat->notebook>=4.4.1->widgetsnbextension~=3.6.0->ipywidgets) (24.3.0)\n",
            "Requirement already satisfied: jsonschema-specifications>=2023.03.6 in /usr/local/lib/python3.11/dist-packages (from jsonschema>=2.6->nbformat->notebook>=4.4.1->widgetsnbextension~=3.6.0->ipywidgets) (2024.10.1)\n",
            "Requirement already satisfied: referencing>=0.28.4 in /usr/local/lib/python3.11/dist-packages (from jsonschema>=2.6->nbformat->notebook>=4.4.1->widgetsnbextension~=3.6.0->ipywidgets) (0.35.1)\n",
            "Requirement already satisfied: rpds-py>=0.7.1 in /usr/local/lib/python3.11/dist-packages (from jsonschema>=2.6->nbformat->notebook>=4.4.1->widgetsnbextension~=3.6.0->ipywidgets) (0.22.3)\n",
            "Requirement already satisfied: jupyter-server<3,>=1.8 in /usr/local/lib/python3.11/dist-packages (from notebook-shim>=0.2.3->nbclassic>=0.4.7->notebook>=4.4.1->widgetsnbextension~=3.6.0->ipywidgets) (1.24.0)\n",
            "Requirement already satisfied: cffi>=1.0.1 in /usr/local/lib/python3.11/dist-packages (from argon2-cffi-bindings->argon2-cffi->notebook>=4.4.1->widgetsnbextension~=3.6.0->ipywidgets) (1.17.1)\n",
            "Requirement already satisfied: soupsieve>1.2 in /usr/local/lib/python3.11/dist-packages (from beautifulsoup4->nbconvert>=5->notebook>=4.4.1->widgetsnbextension~=3.6.0->ipywidgets) (2.6)\n",
            "Requirement already satisfied: pycparser in /usr/local/lib/python3.11/dist-packages (from cffi>=1.0.1->argon2-cffi-bindings->argon2-cffi->notebook>=4.4.1->widgetsnbextension~=3.6.0->ipywidgets) (2.22)\n",
            "Requirement already satisfied: anyio<4,>=3.1.0 in /usr/local/lib/python3.11/dist-packages (from jupyter-server<3,>=1.8->notebook-shim>=0.2.3->nbclassic>=0.4.7->notebook>=4.4.1->widgetsnbextension~=3.6.0->ipywidgets) (3.7.1)\n",
            "Requirement already satisfied: websocket-client in /usr/local/lib/python3.11/dist-packages (from jupyter-server<3,>=1.8->notebook-shim>=0.2.3->nbclassic>=0.4.7->notebook>=4.4.1->widgetsnbextension~=3.6.0->ipywidgets) (1.8.0)\n",
            "Requirement already satisfied: idna>=2.8 in /usr/local/lib/python3.11/dist-packages (from anyio<4,>=3.1.0->jupyter-server<3,>=1.8->notebook-shim>=0.2.3->nbclassic>=0.4.7->notebook>=4.4.1->widgetsnbextension~=3.6.0->ipywidgets) (3.10)\n",
            "Requirement already satisfied: sniffio>=1.1 in /usr/local/lib/python3.11/dist-packages (from anyio<4,>=3.1.0->jupyter-server<3,>=1.8->notebook-shim>=0.2.3->nbclassic>=0.4.7->notebook>=4.4.1->widgetsnbextension~=3.6.0->ipywidgets) (1.3.1)\n",
            "Downloading jedi-0.19.2-py2.py3-none-any.whl (1.6 MB)\n",
            "\u001b[2K   \u001b[90m━━━━━━━━━━━━━━━━━━━━━━━━━━━━━━━━━━━━━━━━\u001b[0m \u001b[32m1.6/1.6 MB\u001b[0m \u001b[31m16.0 MB/s\u001b[0m eta \u001b[36m0:00:00\u001b[0m\n",
            "\u001b[?25hInstalling collected packages: jedi\n",
            "Successfully installed jedi-0.19.2\n"
          ]
        },
        {
          "output_type": "display_data",
          "data": {
            "text/plain": [
              "interactive(children=(IntSlider(value=0, description='x', max=10, min=-10), Output()), _dom_classes=('widget-i…"
            ],
            "application/vnd.jupyter.widget-view+json": {
              "version_major": 2,
              "version_minor": 0,
              "model_id": "7a9c6a12bf664930bbd31420d5678c87"
            }
          },
          "metadata": {}
        },
        {
          "output_type": "execute_result",
          "data": {
            "text/plain": [
              "<function __main__.f(x)>"
            ],
            "text/html": [
              "<div style=\"max-width:800px; border: 1px solid var(--colab-border-color);\"><style>\n",
              "      pre.function-repr-contents {\n",
              "        overflow-x: auto;\n",
              "        padding: 8px 12px;\n",
              "        max-height: 500px;\n",
              "      }\n",
              "\n",
              "      pre.function-repr-contents.function-repr-contents-collapsed {\n",
              "        cursor: pointer;\n",
              "        max-height: 100px;\n",
              "      }\n",
              "    </style>\n",
              "    <pre style=\"white-space: initial; background:\n",
              "         var(--colab-secondary-surface-color); padding: 8px 12px;\n",
              "         border-bottom: 1px solid var(--colab-border-color);\"><b>f</b><br/>def f(x)</pre><pre class=\"function-repr-contents function-repr-contents-collapsed\" style=\"\"><a class=\"filepath\" style=\"display:none\" href=\"#\">/content/&lt;ipython-input-73-eb76903d9f1e&gt;</a>&lt;no docstring&gt;</pre></div>"
            ]
          },
          "metadata": {},
          "execution_count": 73
        }
      ]
    },
    {
      "source": [
        "!pip install ipywidgets\n",
        "from ipywidgets import interact, interactive, fixed, interact_manual\n",
        "import ipywidgets as widgets\n",
        "\n",
        "# Example function to demonstrate interaction\n",
        "def f(x):\n",
        "    return x\n",
        "\n",
        "# Create an interactive slider\n",
        "interact(f, x=widgets.IntSlider(min=-10, max=10, step=1, value=0))"
      ],
      "cell_type": "code",
      "metadata": {
        "colab": {
          "base_uri": "https://localhost:8080/",
          "height": 1000,
          "referenced_widgets": [
            "8a0964ddc19d49cb99d75e1b47e7fd86",
            "226b3746a44f4bb6a891724e297b6822",
            "6bf27740d2544877b4daeb807e5ba533",
            "9f0cef2c0ad54016812b790c5a8102db",
            "caf51a6e689e470b84f1873fee8fa41f",
            "c96e1a6ccf3e4efabeb9bc67fd931133",
            "ce5ba4e1338e4a27a13a7adab1005465"
          ]
        },
        "collapsed": true,
        "id": "TMk82kQ9AXGM",
        "outputId": "637904fd-7c80-4d18-aca3-1cf0ad3c8d70"
      },
      "execution_count": 75,
      "outputs": [
        {
          "output_type": "stream",
          "name": "stdout",
          "text": [
            "Requirement already satisfied: ipywidgets in /usr/local/lib/python3.11/dist-packages (7.7.1)\n",
            "Requirement already satisfied: ipykernel>=4.5.1 in /usr/local/lib/python3.11/dist-packages (from ipywidgets) (5.5.6)\n",
            "Requirement already satisfied: ipython-genutils~=0.2.0 in /usr/local/lib/python3.11/dist-packages (from ipywidgets) (0.2.0)\n",
            "Requirement already satisfied: traitlets>=4.3.1 in /usr/local/lib/python3.11/dist-packages (from ipywidgets) (5.7.1)\n",
            "Requirement already satisfied: widgetsnbextension~=3.6.0 in /usr/local/lib/python3.11/dist-packages (from ipywidgets) (3.6.10)\n",
            "Requirement already satisfied: ipython>=4.0.0 in /usr/local/lib/python3.11/dist-packages (from ipywidgets) (7.34.0)\n",
            "Requirement already satisfied: jupyterlab-widgets>=1.0.0 in /usr/local/lib/python3.11/dist-packages (from ipywidgets) (3.0.13)\n",
            "Requirement already satisfied: jupyter-client in /usr/local/lib/python3.11/dist-packages (from ipykernel>=4.5.1->ipywidgets) (6.1.12)\n",
            "Requirement already satisfied: tornado>=4.2 in /usr/local/lib/python3.11/dist-packages (from ipykernel>=4.5.1->ipywidgets) (6.3.3)\n",
            "Requirement already satisfied: setuptools>=18.5 in /usr/local/lib/python3.11/dist-packages (from ipython>=4.0.0->ipywidgets) (75.1.0)\n",
            "Requirement already satisfied: jedi>=0.16 in /usr/local/lib/python3.11/dist-packages (from ipython>=4.0.0->ipywidgets) (0.19.2)\n",
            "Requirement already satisfied: decorator in /usr/local/lib/python3.11/dist-packages (from ipython>=4.0.0->ipywidgets) (4.4.2)\n",
            "Requirement already satisfied: pickleshare in /usr/local/lib/python3.11/dist-packages (from ipython>=4.0.0->ipywidgets) (0.7.5)\n",
            "Requirement already satisfied: prompt-toolkit!=3.0.0,!=3.0.1,<3.1.0,>=2.0.0 in /usr/local/lib/python3.11/dist-packages (from ipython>=4.0.0->ipywidgets) (3.0.48)\n",
            "Requirement already satisfied: pygments in /usr/local/lib/python3.11/dist-packages (from ipython>=4.0.0->ipywidgets) (2.18.0)\n",
            "Requirement already satisfied: backcall in /usr/local/lib/python3.11/dist-packages (from ipython>=4.0.0->ipywidgets) (0.2.0)\n",
            "Requirement already satisfied: matplotlib-inline in /usr/local/lib/python3.11/dist-packages (from ipython>=4.0.0->ipywidgets) (0.1.7)\n",
            "Requirement already satisfied: pexpect>4.3 in /usr/local/lib/python3.11/dist-packages (from ipython>=4.0.0->ipywidgets) (4.9.0)\n",
            "Requirement already satisfied: notebook>=4.4.1 in /usr/local/lib/python3.11/dist-packages (from widgetsnbextension~=3.6.0->ipywidgets) (6.5.5)\n",
            "Requirement already satisfied: parso<0.9.0,>=0.8.4 in /usr/local/lib/python3.11/dist-packages (from jedi>=0.16->ipython>=4.0.0->ipywidgets) (0.8.4)\n",
            "Requirement already satisfied: jinja2 in /usr/local/lib/python3.11/dist-packages (from notebook>=4.4.1->widgetsnbextension~=3.6.0->ipywidgets) (3.1.5)\n",
            "Requirement already satisfied: pyzmq<25,>=17 in /usr/local/lib/python3.11/dist-packages (from notebook>=4.4.1->widgetsnbextension~=3.6.0->ipywidgets) (24.0.1)\n",
            "Requirement already satisfied: argon2-cffi in /usr/local/lib/python3.11/dist-packages (from notebook>=4.4.1->widgetsnbextension~=3.6.0->ipywidgets) (23.1.0)\n",
            "Requirement already satisfied: jupyter-core>=4.6.1 in /usr/local/lib/python3.11/dist-packages (from notebook>=4.4.1->widgetsnbextension~=3.6.0->ipywidgets) (5.7.2)\n",
            "Requirement already satisfied: nbformat in /usr/local/lib/python3.11/dist-packages (from notebook>=4.4.1->widgetsnbextension~=3.6.0->ipywidgets) (5.10.4)\n",
            "Requirement already satisfied: nbconvert>=5 in /usr/local/lib/python3.11/dist-packages (from notebook>=4.4.1->widgetsnbextension~=3.6.0->ipywidgets) (7.16.5)\n",
            "Requirement already satisfied: nest-asyncio>=1.5 in /usr/local/lib/python3.11/dist-packages (from notebook>=4.4.1->widgetsnbextension~=3.6.0->ipywidgets) (1.6.0)\n",
            "Requirement already satisfied: Send2Trash>=1.8.0 in /usr/local/lib/python3.11/dist-packages (from notebook>=4.4.1->widgetsnbextension~=3.6.0->ipywidgets) (1.8.3)\n",
            "Requirement already satisfied: terminado>=0.8.3 in /usr/local/lib/python3.11/dist-packages (from notebook>=4.4.1->widgetsnbextension~=3.6.0->ipywidgets) (0.18.1)\n",
            "Requirement already satisfied: prometheus-client in /usr/local/lib/python3.11/dist-packages (from notebook>=4.4.1->widgetsnbextension~=3.6.0->ipywidgets) (0.21.1)\n",
            "Requirement already satisfied: nbclassic>=0.4.7 in /usr/local/lib/python3.11/dist-packages (from notebook>=4.4.1->widgetsnbextension~=3.6.0->ipywidgets) (1.1.0)\n",
            "Requirement already satisfied: python-dateutil>=2.1 in /usr/local/lib/python3.11/dist-packages (from jupyter-client->ipykernel>=4.5.1->ipywidgets) (2.8.2)\n",
            "Requirement already satisfied: ptyprocess>=0.5 in /usr/local/lib/python3.11/dist-packages (from pexpect>4.3->ipython>=4.0.0->ipywidgets) (0.7.0)\n",
            "Requirement already satisfied: wcwidth in /usr/local/lib/python3.11/dist-packages (from prompt-toolkit!=3.0.0,!=3.0.1,<3.1.0,>=2.0.0->ipython>=4.0.0->ipywidgets) (0.2.13)\n",
            "Requirement already satisfied: platformdirs>=2.5 in /usr/local/lib/python3.11/dist-packages (from jupyter-core>=4.6.1->notebook>=4.4.1->widgetsnbextension~=3.6.0->ipywidgets) (4.3.6)\n",
            "Requirement already satisfied: notebook-shim>=0.2.3 in /usr/local/lib/python3.11/dist-packages (from nbclassic>=0.4.7->notebook>=4.4.1->widgetsnbextension~=3.6.0->ipywidgets) (0.2.4)\n",
            "Requirement already satisfied: beautifulsoup4 in /usr/local/lib/python3.11/dist-packages (from nbconvert>=5->notebook>=4.4.1->widgetsnbextension~=3.6.0->ipywidgets) (4.12.3)\n",
            "Requirement already satisfied: bleach!=5.0.0 in /usr/local/lib/python3.11/dist-packages (from bleach[css]!=5.0.0->nbconvert>=5->notebook>=4.4.1->widgetsnbextension~=3.6.0->ipywidgets) (6.2.0)\n",
            "Requirement already satisfied: defusedxml in /usr/local/lib/python3.11/dist-packages (from nbconvert>=5->notebook>=4.4.1->widgetsnbextension~=3.6.0->ipywidgets) (0.7.1)\n",
            "Requirement already satisfied: jupyterlab-pygments in /usr/local/lib/python3.11/dist-packages (from nbconvert>=5->notebook>=4.4.1->widgetsnbextension~=3.6.0->ipywidgets) (0.3.0)\n",
            "Requirement already satisfied: markupsafe>=2.0 in /usr/local/lib/python3.11/dist-packages (from nbconvert>=5->notebook>=4.4.1->widgetsnbextension~=3.6.0->ipywidgets) (3.0.2)\n",
            "Requirement already satisfied: mistune<4,>=2.0.3 in /usr/local/lib/python3.11/dist-packages (from nbconvert>=5->notebook>=4.4.1->widgetsnbextension~=3.6.0->ipywidgets) (3.1.0)\n",
            "Requirement already satisfied: nbclient>=0.5.0 in /usr/local/lib/python3.11/dist-packages (from nbconvert>=5->notebook>=4.4.1->widgetsnbextension~=3.6.0->ipywidgets) (0.10.2)\n",
            "Requirement already satisfied: packaging in /usr/local/lib/python3.11/dist-packages (from nbconvert>=5->notebook>=4.4.1->widgetsnbextension~=3.6.0->ipywidgets) (24.2)\n",
            "Requirement already satisfied: pandocfilters>=1.4.1 in /usr/local/lib/python3.11/dist-packages (from nbconvert>=5->notebook>=4.4.1->widgetsnbextension~=3.6.0->ipywidgets) (1.5.1)\n",
            "Requirement already satisfied: fastjsonschema>=2.15 in /usr/local/lib/python3.11/dist-packages (from nbformat->notebook>=4.4.1->widgetsnbextension~=3.6.0->ipywidgets) (2.21.1)\n",
            "Requirement already satisfied: jsonschema>=2.6 in /usr/local/lib/python3.11/dist-packages (from nbformat->notebook>=4.4.1->widgetsnbextension~=3.6.0->ipywidgets) (4.23.0)\n",
            "Requirement already satisfied: six>=1.5 in /usr/local/lib/python3.11/dist-packages (from python-dateutil>=2.1->jupyter-client->ipykernel>=4.5.1->ipywidgets) (1.17.0)\n",
            "Requirement already satisfied: argon2-cffi-bindings in /usr/local/lib/python3.11/dist-packages (from argon2-cffi->notebook>=4.4.1->widgetsnbextension~=3.6.0->ipywidgets) (21.2.0)\n",
            "Requirement already satisfied: webencodings in /usr/local/lib/python3.11/dist-packages (from bleach!=5.0.0->bleach[css]!=5.0.0->nbconvert>=5->notebook>=4.4.1->widgetsnbextension~=3.6.0->ipywidgets) (0.5.1)\n",
            "Requirement already satisfied: tinycss2<1.5,>=1.1.0 in /usr/local/lib/python3.11/dist-packages (from bleach[css]!=5.0.0->nbconvert>=5->notebook>=4.4.1->widgetsnbextension~=3.6.0->ipywidgets) (1.4.0)\n",
            "Requirement already satisfied: attrs>=22.2.0 in /usr/local/lib/python3.11/dist-packages (from jsonschema>=2.6->nbformat->notebook>=4.4.1->widgetsnbextension~=3.6.0->ipywidgets) (24.3.0)\n",
            "Requirement already satisfied: jsonschema-specifications>=2023.03.6 in /usr/local/lib/python3.11/dist-packages (from jsonschema>=2.6->nbformat->notebook>=4.4.1->widgetsnbextension~=3.6.0->ipywidgets) (2024.10.1)\n",
            "Requirement already satisfied: referencing>=0.28.4 in /usr/local/lib/python3.11/dist-packages (from jsonschema>=2.6->nbformat->notebook>=4.4.1->widgetsnbextension~=3.6.0->ipywidgets) (0.35.1)\n",
            "Requirement already satisfied: rpds-py>=0.7.1 in /usr/local/lib/python3.11/dist-packages (from jsonschema>=2.6->nbformat->notebook>=4.4.1->widgetsnbextension~=3.6.0->ipywidgets) (0.22.3)\n",
            "Requirement already satisfied: jupyter-server<3,>=1.8 in /usr/local/lib/python3.11/dist-packages (from notebook-shim>=0.2.3->nbclassic>=0.4.7->notebook>=4.4.1->widgetsnbextension~=3.6.0->ipywidgets) (1.24.0)\n",
            "Requirement already satisfied: cffi>=1.0.1 in /usr/local/lib/python3.11/dist-packages (from argon2-cffi-bindings->argon2-cffi->notebook>=4.4.1->widgetsnbextension~=3.6.0->ipywidgets) (1.17.1)\n",
            "Requirement already satisfied: soupsieve>1.2 in /usr/local/lib/python3.11/dist-packages (from beautifulsoup4->nbconvert>=5->notebook>=4.4.1->widgetsnbextension~=3.6.0->ipywidgets) (2.6)\n",
            "Requirement already satisfied: pycparser in /usr/local/lib/python3.11/dist-packages (from cffi>=1.0.1->argon2-cffi-bindings->argon2-cffi->notebook>=4.4.1->widgetsnbextension~=3.6.0->ipywidgets) (2.22)\n",
            "Requirement already satisfied: anyio<4,>=3.1.0 in /usr/local/lib/python3.11/dist-packages (from jupyter-server<3,>=1.8->notebook-shim>=0.2.3->nbclassic>=0.4.7->notebook>=4.4.1->widgetsnbextension~=3.6.0->ipywidgets) (3.7.1)\n",
            "Requirement already satisfied: websocket-client in /usr/local/lib/python3.11/dist-packages (from jupyter-server<3,>=1.8->notebook-shim>=0.2.3->nbclassic>=0.4.7->notebook>=4.4.1->widgetsnbextension~=3.6.0->ipywidgets) (1.8.0)\n",
            "Requirement already satisfied: idna>=2.8 in /usr/local/lib/python3.11/dist-packages (from anyio<4,>=3.1.0->jupyter-server<3,>=1.8->notebook-shim>=0.2.3->nbclassic>=0.4.7->notebook>=4.4.1->widgetsnbextension~=3.6.0->ipywidgets) (3.10)\n",
            "Requirement already satisfied: sniffio>=1.1 in /usr/local/lib/python3.11/dist-packages (from anyio<4,>=3.1.0->jupyter-server<3,>=1.8->notebook-shim>=0.2.3->nbclassic>=0.4.7->notebook>=4.4.1->widgetsnbextension~=3.6.0->ipywidgets) (1.3.1)\n"
          ]
        },
        {
          "output_type": "display_data",
          "data": {
            "text/plain": [
              "interactive(children=(IntSlider(value=0, description='x', max=10, min=-10), Output()), _dom_classes=('widget-i…"
            ],
            "application/vnd.jupyter.widget-view+json": {
              "version_major": 2,
              "version_minor": 0,
              "model_id": "8a0964ddc19d49cb99d75e1b47e7fd86"
            }
          },
          "metadata": {}
        },
        {
          "output_type": "execute_result",
          "data": {
            "text/plain": [
              "<function __main__.f(x)>"
            ],
            "text/html": [
              "<div style=\"max-width:800px; border: 1px solid var(--colab-border-color);\"><style>\n",
              "      pre.function-repr-contents {\n",
              "        overflow-x: auto;\n",
              "        padding: 8px 12px;\n",
              "        max-height: 500px;\n",
              "      }\n",
              "\n",
              "      pre.function-repr-contents.function-repr-contents-collapsed {\n",
              "        cursor: pointer;\n",
              "        max-height: 100px;\n",
              "      }\n",
              "    </style>\n",
              "    <pre style=\"white-space: initial; background:\n",
              "         var(--colab-secondary-surface-color); padding: 8px 12px;\n",
              "         border-bottom: 1px solid var(--colab-border-color);\"><b>f</b><br/>def f(x)</pre><pre class=\"function-repr-contents function-repr-contents-collapsed\" style=\"\"><a class=\"filepath\" style=\"display:none\" href=\"#\">/content/&lt;ipython-input-75-eb76903d9f1e&gt;</a>&lt;no docstring&gt;</pre></div>"
            ]
          },
          "metadata": {},
          "execution_count": 75
        }
      ]
    },
    {
      "source": [
        "import ipywidgets as widgets\n",
        "from IPython.display import display\n",
        "\n",
        "def filter_data(query):\n",
        "    filtered_data = merged_df[merged_df['Query'] == query]\n",
        "    display(filtered_data)\n",
        "\n",
        "query_options = merged_df['Query'].unique().tolist()\n",
        "query_dropdown = widgets.Dropdown(options=query_options, description='Select Query:')\n",
        "\n",
        "interactive(filter_data, query=query_dropdown)"
      ],
      "cell_type": "code",
      "metadata": {
        "id": "S-tfNcp7Aytp"
      },
      "execution_count": null,
      "outputs": []
    },
    {
      "source": [
        "import ipywidgets as widgets\n",
        "from IPython.display import display # Removed the extra space before 'from'"
      ],
      "cell_type": "code",
      "metadata": {
        "id": "6-ImBU0EBORr"
      },
      "execution_count": 81,
      "outputs": []
    },
    {
      "source": [
        "from matplotlib import pyplot as plt\n",
        "_df_0['0'].plot(kind='hist', bins=20, title='0')\n",
        "plt.gca().spines[['top', 'right',]].set_visible(False)"
      ],
      "cell_type": "code",
      "metadata": {
        "colab": {
          "base_uri": "https://localhost:8080/",
          "height": 452
        },
        "id": "WTn-YKCXA-ZS",
        "outputId": "f0663968-7892-4a69-a711-bbf7e1a67ae4"
      },
      "execution_count": 79,
      "outputs": [
        {
          "output_type": "display_data",
          "data": {
            "text/plain": [
              "<Figure size 640x480 with 1 Axes>"
            ],
            "image/png": "[encoded data removed]"
          },
          "metadata": {}
        }
      ]
    },
    {
      "source": [
        "from matplotlib import pyplot as plt\n",
        "_df_16['Orders'].plot(kind='line', figsize=(8, 4), title='Orders')\n",
        "plt.gca().spines[['top', 'right']].set_visible(False)"
      ],
      "cell_type": "code",
      "metadata": {
        "colab": {
          "base_uri": "https://localhost:8080/",
          "height": 391
        },
        "id": "INZeuF8fA8aC",
        "outputId": "5c04542b-f7a5-4966-831e-26c362affb88"
      },
      "execution_count": 80,
      "outputs": [
        {
          "output_type": "display_data",
          "data": {
            "text/plain": [
              "<Figure size 800x400 with 1 Axes>"
            ],
            "image/png": "[encoded data removed]"
          },
          "metadata": {}
        }
      ]
    },
    {
      "source": [
        "import pandas as pd\n",
        "\n",
        "# Assuming your merged DataFrame is called 'merged_df'\n",
        "\n",
        "# 1. Check if 'Date' column exists, if not, check for possible alternatives\n",
        "if 'Date' not in merged_df.columns:\n",
        "    # List all columns to help identify potential 'Date' column\n",
        "    print(merged_df.columns)\n",
        "\n",
        "    # If you find an alternative column name (e.g., 'Day', 'Week', etc.),\n",
        "    # replace 'AlternativeDateColumnName' below with the actual column name\n",
        "    # and uncomment the following line:\n",
        "    # merged_df['Date'] = merged_df['AlternativeDateColumnName']\n",
        "\n",
        "    #--- The original data may not have a 'Date' column.\n",
        "    #--- If your Google Sheet data has columns named 'Month_x' and 'Year', you can combine them to create a 'Date' column:\n",
        "    #--- **Replace 'Month_x' and 'Year' with the actual column names if they are different**\n",
        "    #--- If the column name for year is 'Year_x' replace 'Year' with 'Year_x' in the next line\n",
        "    #--- Example combining columns to form a date\n",
        "    #--- The column named 'Year' was not found, we check for alternative names in merged_df and found 'Year_x' as the year column\n",
        "    #--- Replace 'Year' with 'Year_x' in the below line\n",
        "\n",
        "    # Check if 'Year_x' exists, if not, try 'Year'\n",
        "    year_column = 'Year_x' if 'Year_x' in merged_df.columns else 'Year'\n",
        "    if year_column not in merged_df.columns:\n",
        "        raise KeyError(f\"Neither 'Year_x' nor 'Year' column found in the DataFrame. Please check your data source.\")\n",
        "\n",
        "    merged_df['Date'] = pd.to_datetime(merged_df['Month_x'].astype(str) + '-' + merged_df[year_column].astype(str))\n",
        "\n",
        "\n",
        "    #--- If you still can't find a date column or a way to create one from existing columns,\n",
        "    #--- you might need to modify the Google Sheet to include a 'Date' column.\n",
        "    #--- Uncomment the following line if you can't find/create the date column:\n",
        "    # raise KeyError(\"The 'Date' column was not found in the DataFrame. Please check your data source or provide an alternative column name.\")\n",
        "\n",
        "# 2. Convert the 'Date' column to datetime objects\n",
        "merged_df['Date'] = pd.to_datetime(merged_df['Date'])\n",
        "\n",
        "# 3. Create a 'Week' column to group data by week:\n",
        "merged_df['Week'] = merged_df['Date'].dt.isocalendar().week  # Use isocalendar for consistent week numbering\n",
        "\n",
        "# 4. Group data by week and calculate weekly metrics:\n",
        "weekly_data = merged_df.groupby('Week').agg({\n",
        "    'Sales': 'sum',\n",
        "    'AdSpend': 'sum',\n",
        "    'Orders': 'sum',\n",
        "    # Add other metrics you want to analyze\n",
        "})\n",
        "\n",
        "# 4. Display the weekly data:\n",
        "print(weekly_data)\n",
        "\n",
        "# 5. (Optional) Plot the weekly trends:\n",
        "weekly_data.plot(subplots=True, figsize=(10, 6))"
      ],
      "cell_type": "code",
      "metadata": {
        "colab": {
          "base_uri": "https://localhost:8080/",
          "height": 297
        },
        "collapsed": true,
        "id": "cBlN8lhOCdaS",
        "outputId": "11040967-d999-4193-938a-ce0007eb103e"
      },
      "execution_count": 90,
      "outputs": [
        {
          "output_type": "stream",
          "name": "stdout",
          "text": [
            "Index(['0', 'Month_x', 'YearNumber_x', 'Query', 'Rank', 'ImpShare', 'AdClk',\n",
            "       'AdImp', 'AdSpend', 'AdCPC', 'Orders', 'Sales', 'Week', 'Month_y',\n",
            "       'YearNumber_y', 'ASIN', 'QScore', 'QVolume', 'OrgImp', 'OrgClk',\n",
            "       'OrgPur', 'OrgPRate', 'OrgPrice', 'ACoS', 'ROAS', 'CTR'],\n",
            "      dtype='object')\n"
          ]
        },
        {
          "output_type": "error",
          "ename": "KeyError",
          "evalue": "\"Neither 'Year_x' nor 'Year' column found in the DataFrame. Please check your data source.\"",
          "traceback": [
            "\u001b[0;31m---------------------------------------------------------------------------\u001b[0m",
            "\u001b[0;31mKeyError\u001b[0m                                  Traceback (most recent call last)",
            "\u001b[0;32m<ipython-input-90-3db25b02ec15>\u001b[0m in \u001b[0;36m<cell line: 0>\u001b[0;34m()\u001b[0m\n\u001b[1;32m     24\u001b[0m     \u001b[0myear_column\u001b[0m \u001b[0;34m=\u001b[0m \u001b[0;34m'Year_x'\u001b[0m \u001b[0;32mif\u001b[0m \u001b[0;34m'Year_x'\u001b[0m \u001b[0;32min\u001b[0m \u001b[0mmerged_df\u001b[0m\u001b[0;34m.\u001b[0m\u001b[0mcolumns\u001b[0m \u001b[0;32melse\u001b[0m \u001b[0;34m'Year'\u001b[0m\u001b[0;34m\u001b[0m\u001b[0;34m\u001b[0m\u001b[0m\n\u001b[1;32m     25\u001b[0m     \u001b[0;32mif\u001b[0m \u001b[0myear_column\u001b[0m \u001b[0;32mnot\u001b[0m \u001b[0;32min\u001b[0m \u001b[0mmerged_df\u001b[0m\u001b[0;34m.\u001b[0m\u001b[0mcolumns\u001b[0m\u001b[0;34m:\u001b[0m\u001b[0;34m\u001b[0m\u001b[0;34m\u001b[0m\u001b[0m\n\u001b[0;32m---> 26\u001b[0;31m         \u001b[0;32mraise\u001b[0m \u001b[0mKeyError\u001b[0m\u001b[0;34m(\u001b[0m\u001b[0;34mf\"Neither 'Year_x' nor 'Year' column found in the DataFrame. Please check your data source.\"\u001b[0m\u001b[0;34m)\u001b[0m\u001b[0;34m\u001b[0m\u001b[0;34m\u001b[0m\u001b[0m\n\u001b[0m\u001b[1;32m     27\u001b[0m \u001b[0;34m\u001b[0m\u001b[0m\n\u001b[1;32m     28\u001b[0m     \u001b[0mmerged_df\u001b[0m\u001b[0;34m[\u001b[0m\u001b[0;34m'Date'\u001b[0m\u001b[0;34m]\u001b[0m \u001b[0;34m=\u001b[0m \u001b[0mpd\u001b[0m\u001b[0;34m.\u001b[0m\u001b[0mto_datetime\u001b[0m\u001b[0;34m(\u001b[0m\u001b[0mmerged_df\u001b[0m\u001b[0;34m[\u001b[0m\u001b[0;34m'Month_x'\u001b[0m\u001b[0;34m]\u001b[0m\u001b[0;34m.\u001b[0m\u001b[0mastype\u001b[0m\u001b[0;34m(\u001b[0m\u001b[0mstr\u001b[0m\u001b[0;34m)\u001b[0m \u001b[0;34m+\u001b[0m \u001b[0;34m'-'\u001b[0m \u001b[0;34m+\u001b[0m \u001b[0mmerged_df\u001b[0m\u001b[0;34m[\u001b[0m\u001b[0myear_column\u001b[0m\u001b[0;34m]\u001b[0m\u001b[0;34m.\u001b[0m\u001b[0mastype\u001b[0m\u001b[0;34m(\u001b[0m\u001b[0mstr\u001b[0m\u001b[0;34m)\u001b[0m\u001b[0;34m)\u001b[0m\u001b[0;34m\u001b[0m\u001b[0;34m\u001b[0m\u001b[0m\n",
            "\u001b[0;31mKeyError\u001b[0m: \"Neither 'Year_x' nor 'Year' column found in the DataFrame. Please check your data source.\""
          ]
        }
      ]
    },
    {
      "source": [
        "import pandas as pd\n",
        "\n",
        "# ... (your existing code) ...\n",
        "\n",
        "# 1. Check if 'Date' column exists, if not, check for possible alternatives\n",
        "if 'Date' not in merged_df.columns:\n",
        "    # List all columns to help identify potential 'Date' column\n",
        "    print(merged_df.columns)\n",
        "\n",
        "    #--- Instead of raising a KeyError immediately, check if any of the other conditions can create a date\n",
        "    # Check if either 'Year' or 'Year_x' exists and use one of the two\n",
        ""
      ],
      "cell_type": "code",
      "metadata": {
        "colab": {
          "base_uri": "https://localhost:8080/"
        },
        "id": "I-N3j5hIEv8q",
        "outputId": "3583e341-883c-4733-c64b-f5c3cac53a69"
      },
      "execution_count": 91,
      "outputs": [
        {
          "output_type": "stream",
          "name": "stdout",
          "text": [
            "Index(['0', 'Month_x', 'YearNumber_x', 'Query', 'Rank', 'ImpShare', 'AdClk',\n",
            "       'AdImp', 'AdSpend', 'AdCPC', 'Orders', 'Sales', 'Week', 'Month_y',\n",
            "       'YearNumber_y', 'ASIN', 'QScore', 'QVolume', 'OrgImp', 'OrgClk',\n",
            "       'OrgPur', 'OrgPRate', 'OrgPrice', 'ACoS', 'ROAS', 'CTR'],\n",
            "      dtype='object')\n"
          ]
        }
      ]
    },
    {
      "source": [
        "import pandas as pd\n",
        "\n",
        "# ... (your existing code) ...\n",
        "\n",
        "# 1. Check if 'Date' column exists, if not, check for possible alternatives\n",
        "if 'Date' not in merged_df.columns:\n",
        "    # List all columns to help identify potential 'Date' column\n",
        "    print(merged_df.columns)\n",
        "\n",
        "    # Check if 'Month_x' and 'YearNumber_x' exist\n",
        "    if 'Month_x' in merged_df.columns and 'YearNumber_x' in merged_df.columns:\n",
        "        # Create 'Date' column from 'Month_x' and 'YearNumber_x'\n",
        "        merged_df['Date'] = pd.to_datetime(merged_df['Month_x'].astype(str) + '-' + merged_df['YearNumber_x'].astype(str))\n",
        "    else:\n",
        "        # If 'Month_x' or 'YearNumber_x' are missing, raise an error\n",
        "        raise KeyError(\"The required columns 'Month_x' and/or 'YearNumber_x' were not found in the DataFrame. Please check your data source.\")\n",
        "\n",
        "# 2. Convert the 'Date' column to datetime objects\n",
        "merged_df['Date'] = pd.to_datetime(merged_df['Date'])\n",
        "\n",
        "# 3. Create a 'Week' column to group data by week:\n",
        "merged_df['Week'] = merged_df['Date'].dt.isocalendar().week  # Use isocalendar for consistent week numbering\n",
        "\n",
        "# 4. Group data by week and calculate weekly metrics:\n",
        "weekly_data = merged_df.groupby('Week').agg({\n",
        "    'Sales': 'sum',\n",
        "    'AdSpend': 'sum',\n",
        "    'Orders': 'sum',\n",
        "    # Add other metrics you want to analyze\n",
        "})\n",
        "\n",
        "# 4. Display the weekly data:\n",
        "print(weekly_data)\n",
        "\n",
        "# 5. (Optional) Plot the weekly trends:\n",
        "weekly_data.plot(subplots=True, figsize=(10, 6))"
      ],
      "cell_type": "code",
      "metadata": {
        "colab": {
          "base_uri": "https://localhost:8080/",
          "height": 768
        },
        "id": "9Vv0ErqjE6FV",
        "outputId": "a12b1984-4339-4c95-bd0b-77ac600324b9"
      },
      "execution_count": 92,
      "outputs": [
        {
          "output_type": "stream",
          "name": "stdout",
          "text": [
            "Index(['0', 'Month_x', 'YearNumber_x', 'Query', 'Rank', 'ImpShare', 'AdClk',\n",
            "       'AdImp', 'AdSpend', 'AdCPC', 'Orders', 'Sales', 'Week', 'Month_y',\n",
            "       'YearNumber_y', 'ASIN', 'QScore', 'QVolume', 'OrgImp', 'OrgClk',\n",
            "       'OrgPur', 'OrgPRate', 'OrgPrice', 'ACoS', 'ROAS', 'CTR'],\n",
            "      dtype='object')\n"
          ]
        },
        {
          "output_type": "stream",
          "name": "stderr",
          "text": [
            "<ipython-input-92-fdff7fad2e07>:13: UserWarning: Could not infer format, so each element will be parsed individually, falling back to `dateutil`. To ensure parsing is consistent and as-expected, please specify a format.\n",
            "  merged_df['Date'] = pd.to_datetime(merged_df['Month_x'].astype(str) + '-' + merged_df['YearNumber_x'].astype(str))\n"
          ]
        },
        {
          "output_type": "stream",
          "name": "stdout",
          "text": [
            "                                                  Sales AdSpend  Orders\n",
            "Week                                                                   \n",
            "40    $299.99$299.99$39.99$699.98$869.92$0.00$0.00$0...       0  239542\n",
            "44    $719.96$499.98$0.00$1,452.40$0.00$0.00$0.00$0....       0  342420\n",
            "48    $0.00$0.00$0.00$0.00$0.00$0.00$0.00$0.00$0.00$...       0   75034\n"
          ]
        },
        {
          "output_type": "execute_result",
          "data": {
            "text/plain": [
              "array([<Axes: xlabel='Week'>, <Axes: xlabel='Week'>], dtype=object)"
            ]
          },
          "metadata": {},
          "execution_count": 92
        },
        {
          "output_type": "display_data",
          "data": {
            "text/plain": [
              "<Figure size 1000x600 with 2 Axes>"
            ],
            "image/png": "[encoded data removed]"
          },
          "metadata": {}
        }
      ]
    },
    {
      "source": [
        "import pandas as pd\n",
        "import gspread\n",
        "import pandas as pd\n",
        "from google.auth import default\n",
        "from google.colab import auth\n",
        "import numpy as np\n",
        "\n",
        "# ... (your existing code to create merged_df) ...\n",
        "\n",
        "# 1. Calculate Weekly Metrics\n",
        "merged_df['Date'] = pd.to_datetime(merged_df['Month_x'].astype(str) + '-' + merged_df['YearNumber_x'].astype(str))\n",
        "merged_df['Week'] = merged_df['Date'].dt.isocalendar().week\n",
        "\n",
        "# Ensure 'Sales' and 'AdSpend' are numeric before grouping\n",
        "merged_df['Sales'] = pd.to_numeric(merged_df['Sales'], errors='coerce')\n",
        "merged_df['AdSpend'] = pd.to_numeric(merged_df['AdSpend'], errors='coerce')\n",
        "\n",
        "weekly_data = merged_df.groupby('Week').agg({\n",
        "    'Sales': 'sum',\n",
        "    'AdSpend': 'sum',\n",
        "    'Orders': 'sum',\n",
        "    'AdClk': 'sum',  # Assuming AdClk represents clicks\n",
        "    'AdImp': 'sum',  # Assuming AdImp represents impressions\n",
        "    # Add other metrics you want to analyze\n",
        "}).reset_index()  # Reset index to make 'Week' a regular column\n",
        "\n",
        "# 2. Calculate ACoS, ROAS, and CTR for each week\n",
        "weekly_data['ACoS'] = (weekly_data['AdSpend'] / weekly_data['Sales']) * 100\n",
        "weekly_data['ROAS'] = weekly_data['Sales'] / weekly_data['AdSpend']\n",
        "weekly_data['CTR'] = (weekly_data['AdClk'] / weekly_data['AdImp']) * 100\n",
        "\n",
        "# 3. Calculate Overall ACoS, ROAS, and CTR (optional)\n",
        "total_sales = merged_df['Sales'].sum()\n",
        "total_adspend = merged_df['AdSpend'].sum()\n",
        "total_orders = merged_df['Orders'].sum()\n",
        "total_clicks = merged_df['AdClk'].sum()\n",
        "total_impressions = merged_df['AdImp'].sum()\n",
        "\n",
        "overall_acos = (total_adspend / total_sales) * 100\n",
        "overall_roas = total_sales / total_adspend\n",
        "overall_ctr = (total_clicks / total_impressions) * 100\n",
        "\n",
        "# Add overall metrics to the DataFrame (optional)\n",
        "weekly_data.loc[-1] = ['Overall', total_sales, total_adspend, total_orders, total_clicks, total_impressions, overall_acos, overall_roas, overall_ctr]\n",
        "weekly_data.index = weekly_data.index + 1  # Shift index to avoid -1\n",
        "weekly_data.sort_index(inplace=True)\n",
        "\n",
        "# 4. Export to CSV\n",
        "weekly_data.to_csv('weekly_data.csv', index=False)\n",
        "print(\"Consolidated data saved to weekly_data.csv\")"
      ],
      "cell_type": "code",
      "metadata": {
        "colab": {
          "base_uri": "https://localhost:8080/"
        },
        "id": "vbrix6iQGkwi",
        "outputId": "1b8242eb-77fe-43ad-ce12-1c54eba2e3c7"
      },
      "execution_count": 95,
      "outputs": [
        {
          "output_type": "stream",
          "name": "stderr",
          "text": [
            "<ipython-input-95-f4983b1e493a>:6: UserWarning: Could not infer format, so each element will be parsed individually, falling back to `dateutil`. To ensure parsing is consistent and as-expected, please specify a format.\n",
            "  merged_df['Date'] = pd.to_datetime(merged_df['Month_x'].astype(str) + '-' + merged_df['YearNumber_x'].astype(str))\n",
            "<ipython-input-95-f4983b1e493a>:34: RuntimeWarning: invalid value encountered in scalar divide\n",
            "  overall_acos = (total_adspend / total_sales) * 100\n",
            "<ipython-input-95-f4983b1e493a>:35: RuntimeWarning: invalid value encountered in scalar divide\n",
            "  overall_roas = total_sales / total_adspend\n"
          ]
        },
        {
          "output_type": "stream",
          "name": "stdout",
          "text": [
            "Consolidated data saved to weekly_data.csv\n"
          ]
        }
      ]
    },
    {
      "source": [
        "import gspread\n",
        "import pandas as pd\n",
        "from google.auth import default\n",
        "from google.colab import auth\n",
        "import numpy as np\n",
        "\n",
        "# ... (your existing code to create merged_df and weekly_data) ...\n",
        "\n",
        "# --- Authentication and Spreadsheet Opening ---\n",
        "# ... (your authentication and spreadsheet opening code) ...\n",
        "\n",
        "# --- Append data to the worksheet ---\n",
        "# Replace infinite values with a large finite number or NaN\n",
        "# Convert 'inf' and '-inf' to NaN before converting to list\n",
        "data_to_append = weekly_data.replace([np.inf, -np.inf], np.nan).values.tolist()\n",
        "\n",
        "# Explicitly convert all numeric values to strings to avoid JSON issues\n",
        "data_to_append = [[str(cell) if isinstance(cell, (int, float)) else cell for cell in row] for row in data_to_append]\n",
        "\n",
        "worksheet.append_rows(data_to_append, table_range=\"A1\", value_input_option='USER_ENTERED')  # Append to existing data, specifying value_input_option\n",
        "\n",
        "print(f\"Weekly data appended to spreadsheet: {spreadsheet.title}, worksheet: {worksheet.title}\")"
      ],
      "cell_type": "code",
      "metadata": {
        "colab": {
          "base_uri": "https://localhost:8080/"
        },
        "id": "TpDaxDpnIXCS",
        "outputId": "71739a85-cf35-432f-f683-8455c857409e"
      },
      "execution_count": 105,
      "outputs": [
        {
          "output_type": "stream",
          "name": "stdout",
          "text": [
            "Weekly data appended to spreadsheet: Weekly Data Analysis, worksheet: Weekly Data\n"
          ]
        }
      ]
    },
    {
      "source": [
        "import gspread\n",
        "from google.auth import default\n",
        "from google.colab import auth\n",
        "\n",
        "# Authenticate and open the spreadsheet\n",
        "auth.authenticate_user()\n",
        "creds, _ = default()\n",
        "gc = gspread.authorize(creds)\n",
        "spreadsheet = gc.open_by_key('1VMhpj1zhftuDdVq8xIZYK01rT97B000sPPvdg4ew9Jc')  # Replace with your spreadsheet key\n",
        "\n",
        "# Get the spreadsheet ID\n",
        "spreadsheet_id = spreadsheet.id\n",
        "\n",
        "# Generate the download link (CSV format)\n",
        "download_link = f\"https://docs.google.com/spreadsheets/d/{spreadsheet_id}/export?format=csv\"\n",
        "\n",
        "print(f\"Download link for your spreadsheet (CSV format): {download_link}\")"
      ],
      "cell_type": "code",
      "metadata": {
        "colab": {
          "base_uri": "https://localhost:8080/"
        },
        "id": "k_7Td_r5MxXo",
        "outputId": "89fc0d40-88d5-4dcd-b34b-6c8a5b544c5e"
      },
      "execution_count": 106,
      "outputs": [
        {
          "output_type": "stream",
          "name": "stdout",
          "text": [
            "Download link for your spreadsheet (CSV format): https://docs.google.com/spreadsheets/d/1VMhpj1zhftuDdVq8xIZYK01rT97B000sPPvdg4ew9Jc/export?format=csv\n"
          ]
        }
      ]
    },
    {
      "cell_type": "markdown",
      "source": [
        "# Google Sheets Data Analysis with Python\n",
        "\n",
        "This guide demonstrates how to perform data analysis on Google Sheets data using Python and the `gspread` library. The code in this guide connects to a Google Sheet, retrieves data from multiple tabs, merges the data, calculates weekly metrics, and appends the results back to the sheet.\n",
        "\n",
        "## Prerequisites\n",
        "\n",
        "- **Google Account:** You'll need a Google account with access to the Google Sheet you want to analyze.\n",
        "- **Google Cloud Project:**  Create a Google Cloud project and enable the Google Sheets API.\n",
        "- **Service Account:** Create a service account in your Google Cloud project and download the JSON key file.\n",
        "- **Python Libraries:** Install the necessary Python libraries using the command: `!pip install gspread pandas google-auth google-auth-httplib2 google-auth-oauthlib`\n",
        "\n",
        "\n",
        "## Usage\n",
        "\n",
        "1. **Authentication:** Authenticate with your Google account using the provided code snippet.\n",
        "2. **Data Loading:** Load data from two worksheets (tabs) of the Google Sheet into Pandas DataFrames.\n",
        "3. **Data Merging:** Merge the two DataFrames based on a common column (e.g., 'Query').\n",
        "4. **Weekly Metrics Calculation:** Calculate weekly metrics such as Sales, AdSpend, Orders, ACoS, ROAS, and CTR.\n",
        "5. **Data Appending:** Append the calculated weekly metrics back to the Google Sheet.\n",
        "6. **Download Link:** Generate a download link for the updated Google Sheet in CSV format.\n",
        "\n",
        "## Code Structure\n",
        "\n",
        "The code is organized into functions for better modularity and readability:\n",
        "\n",
        "- `authenticate_and_open_spreadsheet`: Authenticates and opens the specified Google Sheet.\n",
        "- `load_and_merge_data`: Loads and merges data from two worksheets.\n",
        "- `calculate_weekly_data`: Calculates weekly metrics.\n",
        "- `append_data_to_sheet`: Appends data to the sheet.\n",
        "- `main`: The main function that orchestrates the entire process.\n",
        "\n",
        "## Important Notes\n",
        "\n",
        "- **Spreadsheet Key:** Replace `'1VMhpj1zhftuDdVq8xIZYK01rT97B000sPPvdg4ew9Jc'` with the actual key of your Google Sheet.\n",
        "- **Worksheet Index:** The code assumes that the two worksheets to be merged are at index 0 and 1. Adjust these indices if your worksheets are in different positions.\n",
        "- **Common Column:** The code uses 'Query' as the common column for merging. Change this to the actual common column name in your data.\n",
        "- **Data Types:** Ensure that the relevant columns (e.g., Sales, AdSpend) have the correct data types for calculations.\n",
        "\n",
        "## Example\n",
        "\n",
        "Refer to the Python script for a complete example of how to use the code. The script includes all the necessary import statements, function definitions, and the main execution block.\n",
        "\n",
        "## Contributing\n",
        "\n",
        "If you find any issues or have suggestions for improvements, feel free to contribute to this guide by opening a pull request.\n",
        "\n",
        "## License\n",
        "\n",
        "This guide is provided under the MIT License."
      ],
      "metadata": {
        "id": "nAVxOBFeNo7D"
      }
    },
    {
      "source": [
        "import gspread\n",
        "import pandas as pd\n",
        "from google.auth import default\n",
        "from google.colab import auth\n",
        "import numpy as np\n",
        "\n",
        "# --- Authentication ---\n",
        "def authenticate_and_open_spreadsheet(spreadsheet_key):\n",
        "  \"\"\"Authenticates the user and opens the specified Google Sheet.\"\"\"\n",
        "  auth.authenticate_user()\n",
        "  creds, _ = default()\n",
        "  gc = gspread.authorize(creds)\n",
        "  spreadsheet = gc.open_by_key(spreadsheet_key)\n",
        "  return spreadsheet, gc\n",
        "\n",
        "# --- Data Loading and Merging ---\n",
        "def load_and_merge_data(spreadsheet):\n",
        "  \"\"\"Loads data from two worksheets and merges them.\"\"\"\n",
        "  worksheet1 = spreadsheet.get_worksheet(0)\n",
        "  worksheet2 = spreadsheet.get_worksheet(1)\n",
        "  df1 = pd.DataFrame(worksheet1.get_all_records())\n",
        "  df2 = pd.DataFrame(worksheet2.get_all_records())\n",
        "  merged_df = pd.merge(df1, df2, on='Query', how='left')\n",
        "  return merged_df\n",
        "\n",
        "# --- Weekly Data Calculation ---\n",
        "def calculate_weekly_data(merged_df):\n",
        "  \"\"\"Calculates weekly metrics and overall metrics.\"\"\"\n",
        "  merged_df['Date'] = pd.to_datetime(merged_df['Month_x'].astype(str) + '-' + merged_df['YearNumber_x'].astype(str))\n",
        "  merged_df['Week'] = merged_df['Date'].dt.isocalendar().week\n",
        "\n",
        "  # Ensure numeric columns\n",
        "  for col in ['Sales', 'AdSpend', 'Orders', 'AdClk', 'AdImp']:\n",
        "    merged_df[col] = pd.to_numeric(merged_df[col], errors='coerce')\n",
        "\n",
        "  weekly_data = merged_df.groupby('Week').agg({\n",
        "      'Sales': 'sum',\n",
        "      'AdSpend': 'sum',\n",
        "      'Orders': 'sum',\n",
        "      'AdClk': 'sum',\n",
        "      'AdImp': 'sum',\n",
        "  }).reset_index()\n",
        "\n",
        "  # Calculate metrics\n",
        "  weekly_data['ACoS'] = (weekly_data['AdSpend'] / weekly_data['Sales']) * 100\n",
        "  weekly_data['ROAS'] = weekly_data['Sales'] / weekly_data['AdSpend']\n",
        "  weekly_data['CTR'] = (weekly_data['AdClk'] / weekly_data['AdImp']) * 100\n",
        "\n",
        "  # Calculate overall metrics\n",
        "  overall_metrics = merged_df[['Sales', 'AdSpend', 'Orders', 'AdClk', 'AdImp']].sum()\n",
        "  overall_acos = (overall_metrics['AdSpend'] / overall_metrics['Sales']) * 100\n",
        "  overall_roas = overall_metrics['Sales'] / overall_metrics['AdSpend']\n",
        "  overall_ctr = (overall_metrics['AdClk'] / overall_metrics['AdImp']) * 100\n",
        "\n",
        "  # Add overall metrics to DataFrame\n",
        "  weekly_data.loc[-1] = ['Overall', *overall_metrics, overall_acos, overall_roas, overall_ctr]\n",
        "  weekly_data.index = weekly_data.index + 1\n",
        "  weekly_data.sort_index(inplace=True)\n",
        "\n",
        "  return weekly_data\n",
        "\n",
        "# --- Data Appending ---\n",
        "def append_data_to_sheet(worksheet, weekly_data):\n",
        "  \"\"\"Appends weekly data to the specified worksheet.\"\"\"\n",
        "  data_to_append = weekly_data.replace([np.inf, -np.inf], np.nan).values.tolist()\n",
        "  data_to_append = [[str(cell) if isinstance(cell, (int, float)) else cell for cell in row] for row in data_to_append]\n",
        "  worksheet.append_rows(data_to_append, table_range=\"A1\", value_input_option='USER_ENTERED')\n",
        "  print(f\"Weekly data appended to spreadsheet: {worksheet.spreadsheet.title}, worksheet: {worksheet.title}\")\n",
        "\n",
        "# --- Main Execution ---\n",
        "def main():\n",
        "  spreadsheet_key = '1VMhpj1zhftuDdVq8xIZYK01rT97B000sPPvdg4ew9Jc'\n",
        "  spreadsheet, gc = authenticate_and_open_spreadsheet(spreadsheet_key)\n",
        "  worksheet = spreadsheet.get_worksheet(1)  # Get the target worksheet\n",
        "  merged_df = load_and_merge_data(spreadsheet)\n",
        "  weekly_data = calculate_weekly_data(merged_df)\n",
        "  append_data_to_sheet(worksheet, weekly_data)\n",
        "\n",
        "  # (Optional) Generate download link\n",
        "  spreadsheet_id = spreadsheet.id\n",
        "  download_link = f\"https://docs.google.com/spreadsheets/d/{spreadsheet_id}/export?format=csv\"\n",
        "  print(f\"Download link for your spreadsheet (CSV format): {download_link}\")\n",
        "\n",
        "\n",
        "if __name__ == \"__main__\":\n",
        "  main()"
      ],
      "cell_type": "code",
      "metadata": {
        "id": "yvSzSWt-N76B"
      },
      "execution_count": null,
      "outputs": []
    }
  ]
}